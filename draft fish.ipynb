{
 "cells": [
  {
   "cell_type": "code",
   "execution_count": 88,
   "metadata": {},
   "outputs": [],
   "source": [
    "from selenium import webdriver\n",
    "import time"
   ]
  },
  {
   "cell_type": "code",
   "execution_count": 89,
   "metadata": {},
   "outputs": [],
   "source": [
    "driver = webdriver.Chrome(r\"C:\\Users\\Spencer\\chrome driver\\chromedriver.exe\")"
   ]
  },
  {
   "cell_type": "code",
   "execution_count": 90,
   "metadata": {},
   "outputs": [],
   "source": [
    "driver.get('https://draft.fish/ideas')"
   ]
  },
  {
   "cell_type": "code",
   "execution_count": 91,
   "metadata": {},
   "outputs": [],
   "source": [
    "last_height = driver.execute_script(\"return document.body.scrollHeight\")\n",
    "new_height = 0\n",
    "while True:\n",
    "    if last_height == new_height:\n",
    "        break\n",
    "    last_height = new_height\n",
    "    driver.execute_script(\"window.scrollTo(0, document.body.scrollHeight);\")\n",
    "    time.sleep(3)\n",
    "    new_height = driver.execute_script(\"return document.body.scrollHeight\")"
   ]
  },
  {
   "cell_type": "code",
   "execution_count": 92,
   "metadata": {},
   "outputs": [],
   "source": [
    "content = driver.find_elements_by_class_name('u-url')"
   ]
  },
  {
   "cell_type": "code",
   "execution_count": 93,
   "metadata": {},
   "outputs": [
    {
     "data": {
      "text/plain": [
       "[<selenium.webdriver.remote.webelement.WebElement (session=\"1d5c9adab03e4c3d1a7c4336634fa2cb\", element=\"0.7272109565572882-1\")>,\n",
       " <selenium.webdriver.remote.webelement.WebElement (session=\"1d5c9adab03e4c3d1a7c4336634fa2cb\", element=\"0.7272109565572882-2\")>,\n",
       " <selenium.webdriver.remote.webelement.WebElement (session=\"1d5c9adab03e4c3d1a7c4336634fa2cb\", element=\"0.7272109565572882-3\")>,\n",
       " <selenium.webdriver.remote.webelement.WebElement (session=\"1d5c9adab03e4c3d1a7c4336634fa2cb\", element=\"0.7272109565572882-4\")>,\n",
       " <selenium.webdriver.remote.webelement.WebElement (session=\"1d5c9adab03e4c3d1a7c4336634fa2cb\", element=\"0.7272109565572882-5\")>,\n",
       " <selenium.webdriver.remote.webelement.WebElement (session=\"1d5c9adab03e4c3d1a7c4336634fa2cb\", element=\"0.7272109565572882-6\")>,\n",
       " <selenium.webdriver.remote.webelement.WebElement (session=\"1d5c9adab03e4c3d1a7c4336634fa2cb\", element=\"0.7272109565572882-7\")>,\n",
       " <selenium.webdriver.remote.webelement.WebElement (session=\"1d5c9adab03e4c3d1a7c4336634fa2cb\", element=\"0.7272109565572882-8\")>,\n",
       " <selenium.webdriver.remote.webelement.WebElement (session=\"1d5c9adab03e4c3d1a7c4336634fa2cb\", element=\"0.7272109565572882-9\")>,\n",
       " <selenium.webdriver.remote.webelement.WebElement (session=\"1d5c9adab03e4c3d1a7c4336634fa2cb\", element=\"0.7272109565572882-10\")>,\n",
       " <selenium.webdriver.remote.webelement.WebElement (session=\"1d5c9adab03e4c3d1a7c4336634fa2cb\", element=\"0.7272109565572882-11\")>,\n",
       " <selenium.webdriver.remote.webelement.WebElement (session=\"1d5c9adab03e4c3d1a7c4336634fa2cb\", element=\"0.7272109565572882-12\")>,\n",
       " <selenium.webdriver.remote.webelement.WebElement (session=\"1d5c9adab03e4c3d1a7c4336634fa2cb\", element=\"0.7272109565572882-13\")>,\n",
       " <selenium.webdriver.remote.webelement.WebElement (session=\"1d5c9adab03e4c3d1a7c4336634fa2cb\", element=\"0.7272109565572882-14\")>,\n",
       " <selenium.webdriver.remote.webelement.WebElement (session=\"1d5c9adab03e4c3d1a7c4336634fa2cb\", element=\"0.7272109565572882-15\")>,\n",
       " <selenium.webdriver.remote.webelement.WebElement (session=\"1d5c9adab03e4c3d1a7c4336634fa2cb\", element=\"0.7272109565572882-16\")>,\n",
       " <selenium.webdriver.remote.webelement.WebElement (session=\"1d5c9adab03e4c3d1a7c4336634fa2cb\", element=\"0.7272109565572882-17\")>,\n",
       " <selenium.webdriver.remote.webelement.WebElement (session=\"1d5c9adab03e4c3d1a7c4336634fa2cb\", element=\"0.7272109565572882-18\")>,\n",
       " <selenium.webdriver.remote.webelement.WebElement (session=\"1d5c9adab03e4c3d1a7c4336634fa2cb\", element=\"0.7272109565572882-19\")>,\n",
       " <selenium.webdriver.remote.webelement.WebElement (session=\"1d5c9adab03e4c3d1a7c4336634fa2cb\", element=\"0.7272109565572882-20\")>,\n",
       " <selenium.webdriver.remote.webelement.WebElement (session=\"1d5c9adab03e4c3d1a7c4336634fa2cb\", element=\"0.7272109565572882-21\")>,\n",
       " <selenium.webdriver.remote.webelement.WebElement (session=\"1d5c9adab03e4c3d1a7c4336634fa2cb\", element=\"0.7272109565572882-22\")>,\n",
       " <selenium.webdriver.remote.webelement.WebElement (session=\"1d5c9adab03e4c3d1a7c4336634fa2cb\", element=\"0.7272109565572882-23\")>,\n",
       " <selenium.webdriver.remote.webelement.WebElement (session=\"1d5c9adab03e4c3d1a7c4336634fa2cb\", element=\"0.7272109565572882-24\")>,\n",
       " <selenium.webdriver.remote.webelement.WebElement (session=\"1d5c9adab03e4c3d1a7c4336634fa2cb\", element=\"0.7272109565572882-25\")>,\n",
       " <selenium.webdriver.remote.webelement.WebElement (session=\"1d5c9adab03e4c3d1a7c4336634fa2cb\", element=\"0.7272109565572882-26\")>,\n",
       " <selenium.webdriver.remote.webelement.WebElement (session=\"1d5c9adab03e4c3d1a7c4336634fa2cb\", element=\"0.7272109565572882-27\")>,\n",
       " <selenium.webdriver.remote.webelement.WebElement (session=\"1d5c9adab03e4c3d1a7c4336634fa2cb\", element=\"0.7272109565572882-28\")>,\n",
       " <selenium.webdriver.remote.webelement.WebElement (session=\"1d5c9adab03e4c3d1a7c4336634fa2cb\", element=\"0.7272109565572882-29\")>,\n",
       " <selenium.webdriver.remote.webelement.WebElement (session=\"1d5c9adab03e4c3d1a7c4336634fa2cb\", element=\"0.7272109565572882-30\")>,\n",
       " <selenium.webdriver.remote.webelement.WebElement (session=\"1d5c9adab03e4c3d1a7c4336634fa2cb\", element=\"0.7272109565572882-31\")>,\n",
       " <selenium.webdriver.remote.webelement.WebElement (session=\"1d5c9adab03e4c3d1a7c4336634fa2cb\", element=\"0.7272109565572882-32\")>,\n",
       " <selenium.webdriver.remote.webelement.WebElement (session=\"1d5c9adab03e4c3d1a7c4336634fa2cb\", element=\"0.7272109565572882-33\")>,\n",
       " <selenium.webdriver.remote.webelement.WebElement (session=\"1d5c9adab03e4c3d1a7c4336634fa2cb\", element=\"0.7272109565572882-34\")>,\n",
       " <selenium.webdriver.remote.webelement.WebElement (session=\"1d5c9adab03e4c3d1a7c4336634fa2cb\", element=\"0.7272109565572882-35\")>,\n",
       " <selenium.webdriver.remote.webelement.WebElement (session=\"1d5c9adab03e4c3d1a7c4336634fa2cb\", element=\"0.7272109565572882-36\")>,\n",
       " <selenium.webdriver.remote.webelement.WebElement (session=\"1d5c9adab03e4c3d1a7c4336634fa2cb\", element=\"0.7272109565572882-37\")>,\n",
       " <selenium.webdriver.remote.webelement.WebElement (session=\"1d5c9adab03e4c3d1a7c4336634fa2cb\", element=\"0.7272109565572882-38\")>,\n",
       " <selenium.webdriver.remote.webelement.WebElement (session=\"1d5c9adab03e4c3d1a7c4336634fa2cb\", element=\"0.7272109565572882-39\")>,\n",
       " <selenium.webdriver.remote.webelement.WebElement (session=\"1d5c9adab03e4c3d1a7c4336634fa2cb\", element=\"0.7272109565572882-40\")>,\n",
       " <selenium.webdriver.remote.webelement.WebElement (session=\"1d5c9adab03e4c3d1a7c4336634fa2cb\", element=\"0.7272109565572882-41\")>,\n",
       " <selenium.webdriver.remote.webelement.WebElement (session=\"1d5c9adab03e4c3d1a7c4336634fa2cb\", element=\"0.7272109565572882-42\")>,\n",
       " <selenium.webdriver.remote.webelement.WebElement (session=\"1d5c9adab03e4c3d1a7c4336634fa2cb\", element=\"0.7272109565572882-43\")>,\n",
       " <selenium.webdriver.remote.webelement.WebElement (session=\"1d5c9adab03e4c3d1a7c4336634fa2cb\", element=\"0.7272109565572882-44\")>,\n",
       " <selenium.webdriver.remote.webelement.WebElement (session=\"1d5c9adab03e4c3d1a7c4336634fa2cb\", element=\"0.7272109565572882-45\")>,\n",
       " <selenium.webdriver.remote.webelement.WebElement (session=\"1d5c9adab03e4c3d1a7c4336634fa2cb\", element=\"0.7272109565572882-46\")>,\n",
       " <selenium.webdriver.remote.webelement.WebElement (session=\"1d5c9adab03e4c3d1a7c4336634fa2cb\", element=\"0.7272109565572882-47\")>,\n",
       " <selenium.webdriver.remote.webelement.WebElement (session=\"1d5c9adab03e4c3d1a7c4336634fa2cb\", element=\"0.7272109565572882-48\")>,\n",
       " <selenium.webdriver.remote.webelement.WebElement (session=\"1d5c9adab03e4c3d1a7c4336634fa2cb\", element=\"0.7272109565572882-49\")>,\n",
       " <selenium.webdriver.remote.webelement.WebElement (session=\"1d5c9adab03e4c3d1a7c4336634fa2cb\", element=\"0.7272109565572882-50\")>,\n",
       " <selenium.webdriver.remote.webelement.WebElement (session=\"1d5c9adab03e4c3d1a7c4336634fa2cb\", element=\"0.7272109565572882-51\")>,\n",
       " <selenium.webdriver.remote.webelement.WebElement (session=\"1d5c9adab03e4c3d1a7c4336634fa2cb\", element=\"0.7272109565572882-52\")>,\n",
       " <selenium.webdriver.remote.webelement.WebElement (session=\"1d5c9adab03e4c3d1a7c4336634fa2cb\", element=\"0.7272109565572882-53\")>,\n",
       " <selenium.webdriver.remote.webelement.WebElement (session=\"1d5c9adab03e4c3d1a7c4336634fa2cb\", element=\"0.7272109565572882-54\")>,\n",
       " <selenium.webdriver.remote.webelement.WebElement (session=\"1d5c9adab03e4c3d1a7c4336634fa2cb\", element=\"0.7272109565572882-55\")>,\n",
       " <selenium.webdriver.remote.webelement.WebElement (session=\"1d5c9adab03e4c3d1a7c4336634fa2cb\", element=\"0.7272109565572882-56\")>,\n",
       " <selenium.webdriver.remote.webelement.WebElement (session=\"1d5c9adab03e4c3d1a7c4336634fa2cb\", element=\"0.7272109565572882-57\")>,\n",
       " <selenium.webdriver.remote.webelement.WebElement (session=\"1d5c9adab03e4c3d1a7c4336634fa2cb\", element=\"0.7272109565572882-58\")>,\n",
       " <selenium.webdriver.remote.webelement.WebElement (session=\"1d5c9adab03e4c3d1a7c4336634fa2cb\", element=\"0.7272109565572882-59\")>,\n",
       " <selenium.webdriver.remote.webelement.WebElement (session=\"1d5c9adab03e4c3d1a7c4336634fa2cb\", element=\"0.7272109565572882-60\")>,\n",
       " <selenium.webdriver.remote.webelement.WebElement (session=\"1d5c9adab03e4c3d1a7c4336634fa2cb\", element=\"0.7272109565572882-61\")>,\n",
       " <selenium.webdriver.remote.webelement.WebElement (session=\"1d5c9adab03e4c3d1a7c4336634fa2cb\", element=\"0.7272109565572882-62\")>,\n",
       " <selenium.webdriver.remote.webelement.WebElement (session=\"1d5c9adab03e4c3d1a7c4336634fa2cb\", element=\"0.7272109565572882-63\")>,\n",
       " <selenium.webdriver.remote.webelement.WebElement (session=\"1d5c9adab03e4c3d1a7c4336634fa2cb\", element=\"0.7272109565572882-64\")>,\n",
       " <selenium.webdriver.remote.webelement.WebElement (session=\"1d5c9adab03e4c3d1a7c4336634fa2cb\", element=\"0.7272109565572882-65\")>,\n",
       " <selenium.webdriver.remote.webelement.WebElement (session=\"1d5c9adab03e4c3d1a7c4336634fa2cb\", element=\"0.7272109565572882-66\")>,\n",
       " <selenium.webdriver.remote.webelement.WebElement (session=\"1d5c9adab03e4c3d1a7c4336634fa2cb\", element=\"0.7272109565572882-67\")>,\n",
       " <selenium.webdriver.remote.webelement.WebElement (session=\"1d5c9adab03e4c3d1a7c4336634fa2cb\", element=\"0.7272109565572882-68\")>,\n",
       " <selenium.webdriver.remote.webelement.WebElement (session=\"1d5c9adab03e4c3d1a7c4336634fa2cb\", element=\"0.7272109565572882-69\")>,\n",
       " <selenium.webdriver.remote.webelement.WebElement (session=\"1d5c9adab03e4c3d1a7c4336634fa2cb\", element=\"0.7272109565572882-70\")>,\n",
       " <selenium.webdriver.remote.webelement.WebElement (session=\"1d5c9adab03e4c3d1a7c4336634fa2cb\", element=\"0.7272109565572882-71\")>,\n",
       " <selenium.webdriver.remote.webelement.WebElement (session=\"1d5c9adab03e4c3d1a7c4336634fa2cb\", element=\"0.7272109565572882-72\")>,\n",
       " <selenium.webdriver.remote.webelement.WebElement (session=\"1d5c9adab03e4c3d1a7c4336634fa2cb\", element=\"0.7272109565572882-73\")>,\n",
       " <selenium.webdriver.remote.webelement.WebElement (session=\"1d5c9adab03e4c3d1a7c4336634fa2cb\", element=\"0.7272109565572882-74\")>,\n",
       " <selenium.webdriver.remote.webelement.WebElement (session=\"1d5c9adab03e4c3d1a7c4336634fa2cb\", element=\"0.7272109565572882-75\")>,\n",
       " <selenium.webdriver.remote.webelement.WebElement (session=\"1d5c9adab03e4c3d1a7c4336634fa2cb\", element=\"0.7272109565572882-76\")>,\n",
       " <selenium.webdriver.remote.webelement.WebElement (session=\"1d5c9adab03e4c3d1a7c4336634fa2cb\", element=\"0.7272109565572882-77\")>,\n",
       " <selenium.webdriver.remote.webelement.WebElement (session=\"1d5c9adab03e4c3d1a7c4336634fa2cb\", element=\"0.7272109565572882-78\")>,\n",
       " <selenium.webdriver.remote.webelement.WebElement (session=\"1d5c9adab03e4c3d1a7c4336634fa2cb\", element=\"0.7272109565572882-79\")>,\n",
       " <selenium.webdriver.remote.webelement.WebElement (session=\"1d5c9adab03e4c3d1a7c4336634fa2cb\", element=\"0.7272109565572882-80\")>,\n",
       " <selenium.webdriver.remote.webelement.WebElement (session=\"1d5c9adab03e4c3d1a7c4336634fa2cb\", element=\"0.7272109565572882-81\")>,\n",
       " <selenium.webdriver.remote.webelement.WebElement (session=\"1d5c9adab03e4c3d1a7c4336634fa2cb\", element=\"0.7272109565572882-82\")>,\n",
       " <selenium.webdriver.remote.webelement.WebElement (session=\"1d5c9adab03e4c3d1a7c4336634fa2cb\", element=\"0.7272109565572882-83\")>,\n",
       " <selenium.webdriver.remote.webelement.WebElement (session=\"1d5c9adab03e4c3d1a7c4336634fa2cb\", element=\"0.7272109565572882-84\")>,\n",
       " <selenium.webdriver.remote.webelement.WebElement (session=\"1d5c9adab03e4c3d1a7c4336634fa2cb\", element=\"0.7272109565572882-85\")>,\n",
       " <selenium.webdriver.remote.webelement.WebElement (session=\"1d5c9adab03e4c3d1a7c4336634fa2cb\", element=\"0.7272109565572882-86\")>,\n",
       " <selenium.webdriver.remote.webelement.WebElement (session=\"1d5c9adab03e4c3d1a7c4336634fa2cb\", element=\"0.7272109565572882-87\")>,\n",
       " <selenium.webdriver.remote.webelement.WebElement (session=\"1d5c9adab03e4c3d1a7c4336634fa2cb\", element=\"0.7272109565572882-88\")>,\n",
       " <selenium.webdriver.remote.webelement.WebElement (session=\"1d5c9adab03e4c3d1a7c4336634fa2cb\", element=\"0.7272109565572882-89\")>,\n",
       " <selenium.webdriver.remote.webelement.WebElement (session=\"1d5c9adab03e4c3d1a7c4336634fa2cb\", element=\"0.7272109565572882-90\")>,\n",
       " <selenium.webdriver.remote.webelement.WebElement (session=\"1d5c9adab03e4c3d1a7c4336634fa2cb\", element=\"0.7272109565572882-91\")>,\n",
       " <selenium.webdriver.remote.webelement.WebElement (session=\"1d5c9adab03e4c3d1a7c4336634fa2cb\", element=\"0.7272109565572882-92\")>,\n",
       " <selenium.webdriver.remote.webelement.WebElement (session=\"1d5c9adab03e4c3d1a7c4336634fa2cb\", element=\"0.7272109565572882-93\")>,\n",
       " <selenium.webdriver.remote.webelement.WebElement (session=\"1d5c9adab03e4c3d1a7c4336634fa2cb\", element=\"0.7272109565572882-94\")>,\n",
       " <selenium.webdriver.remote.webelement.WebElement (session=\"1d5c9adab03e4c3d1a7c4336634fa2cb\", element=\"0.7272109565572882-95\")>,\n",
       " <selenium.webdriver.remote.webelement.WebElement (session=\"1d5c9adab03e4c3d1a7c4336634fa2cb\", element=\"0.7272109565572882-96\")>,\n",
       " <selenium.webdriver.remote.webelement.WebElement (session=\"1d5c9adab03e4c3d1a7c4336634fa2cb\", element=\"0.7272109565572882-97\")>,\n",
       " <selenium.webdriver.remote.webelement.WebElement (session=\"1d5c9adab03e4c3d1a7c4336634fa2cb\", element=\"0.7272109565572882-98\")>,\n",
       " <selenium.webdriver.remote.webelement.WebElement (session=\"1d5c9adab03e4c3d1a7c4336634fa2cb\", element=\"0.7272109565572882-99\")>,\n",
       " <selenium.webdriver.remote.webelement.WebElement (session=\"1d5c9adab03e4c3d1a7c4336634fa2cb\", element=\"0.7272109565572882-100\")>,\n",
       " <selenium.webdriver.remote.webelement.WebElement (session=\"1d5c9adab03e4c3d1a7c4336634fa2cb\", element=\"0.7272109565572882-101\")>,\n",
       " <selenium.webdriver.remote.webelement.WebElement (session=\"1d5c9adab03e4c3d1a7c4336634fa2cb\", element=\"0.7272109565572882-102\")>,\n",
       " <selenium.webdriver.remote.webelement.WebElement (session=\"1d5c9adab03e4c3d1a7c4336634fa2cb\", element=\"0.7272109565572882-103\")>,\n",
       " <selenium.webdriver.remote.webelement.WebElement (session=\"1d5c9adab03e4c3d1a7c4336634fa2cb\", element=\"0.7272109565572882-104\")>,\n",
       " <selenium.webdriver.remote.webelement.WebElement (session=\"1d5c9adab03e4c3d1a7c4336634fa2cb\", element=\"0.7272109565572882-105\")>,\n",
       " <selenium.webdriver.remote.webelement.WebElement (session=\"1d5c9adab03e4c3d1a7c4336634fa2cb\", element=\"0.7272109565572882-106\")>,\n",
       " <selenium.webdriver.remote.webelement.WebElement (session=\"1d5c9adab03e4c3d1a7c4336634fa2cb\", element=\"0.7272109565572882-107\")>,\n",
       " <selenium.webdriver.remote.webelement.WebElement (session=\"1d5c9adab03e4c3d1a7c4336634fa2cb\", element=\"0.7272109565572882-108\")>,\n",
       " <selenium.webdriver.remote.webelement.WebElement (session=\"1d5c9adab03e4c3d1a7c4336634fa2cb\", element=\"0.7272109565572882-109\")>,\n",
       " <selenium.webdriver.remote.webelement.WebElement (session=\"1d5c9adab03e4c3d1a7c4336634fa2cb\", element=\"0.7272109565572882-110\")>,\n",
       " <selenium.webdriver.remote.webelement.WebElement (session=\"1d5c9adab03e4c3d1a7c4336634fa2cb\", element=\"0.7272109565572882-111\")>,\n",
       " <selenium.webdriver.remote.webelement.WebElement (session=\"1d5c9adab03e4c3d1a7c4336634fa2cb\", element=\"0.7272109565572882-112\")>,\n",
       " <selenium.webdriver.remote.webelement.WebElement (session=\"1d5c9adab03e4c3d1a7c4336634fa2cb\", element=\"0.7272109565572882-113\")>,\n",
       " <selenium.webdriver.remote.webelement.WebElement (session=\"1d5c9adab03e4c3d1a7c4336634fa2cb\", element=\"0.7272109565572882-114\")>,\n",
       " <selenium.webdriver.remote.webelement.WebElement (session=\"1d5c9adab03e4c3d1a7c4336634fa2cb\", element=\"0.7272109565572882-115\")>,\n",
       " <selenium.webdriver.remote.webelement.WebElement (session=\"1d5c9adab03e4c3d1a7c4336634fa2cb\", element=\"0.7272109565572882-116\")>,\n",
       " <selenium.webdriver.remote.webelement.WebElement (session=\"1d5c9adab03e4c3d1a7c4336634fa2cb\", element=\"0.7272109565572882-117\")>,\n",
       " <selenium.webdriver.remote.webelement.WebElement (session=\"1d5c9adab03e4c3d1a7c4336634fa2cb\", element=\"0.7272109565572882-118\")>,\n",
       " <selenium.webdriver.remote.webelement.WebElement (session=\"1d5c9adab03e4c3d1a7c4336634fa2cb\", element=\"0.7272109565572882-119\")>,\n",
       " <selenium.webdriver.remote.webelement.WebElement (session=\"1d5c9adab03e4c3d1a7c4336634fa2cb\", element=\"0.7272109565572882-120\")>,\n",
       " <selenium.webdriver.remote.webelement.WebElement (session=\"1d5c9adab03e4c3d1a7c4336634fa2cb\", element=\"0.7272109565572882-121\")>,\n",
       " <selenium.webdriver.remote.webelement.WebElement (session=\"1d5c9adab03e4c3d1a7c4336634fa2cb\", element=\"0.7272109565572882-122\")>,\n",
       " <selenium.webdriver.remote.webelement.WebElement (session=\"1d5c9adab03e4c3d1a7c4336634fa2cb\", element=\"0.7272109565572882-123\")>,\n",
       " <selenium.webdriver.remote.webelement.WebElement (session=\"1d5c9adab03e4c3d1a7c4336634fa2cb\", element=\"0.7272109565572882-124\")>,\n",
       " <selenium.webdriver.remote.webelement.WebElement (session=\"1d5c9adab03e4c3d1a7c4336634fa2cb\", element=\"0.7272109565572882-125\")>,\n",
       " <selenium.webdriver.remote.webelement.WebElement (session=\"1d5c9adab03e4c3d1a7c4336634fa2cb\", element=\"0.7272109565572882-126\")>,\n",
       " <selenium.webdriver.remote.webelement.WebElement (session=\"1d5c9adab03e4c3d1a7c4336634fa2cb\", element=\"0.7272109565572882-127\")>,\n",
       " <selenium.webdriver.remote.webelement.WebElement (session=\"1d5c9adab03e4c3d1a7c4336634fa2cb\", element=\"0.7272109565572882-128\")>,\n",
       " <selenium.webdriver.remote.webelement.WebElement (session=\"1d5c9adab03e4c3d1a7c4336634fa2cb\", element=\"0.7272109565572882-129\")>,\n",
       " <selenium.webdriver.remote.webelement.WebElement (session=\"1d5c9adab03e4c3d1a7c4336634fa2cb\", element=\"0.7272109565572882-130\")>,\n",
       " <selenium.webdriver.remote.webelement.WebElement (session=\"1d5c9adab03e4c3d1a7c4336634fa2cb\", element=\"0.7272109565572882-131\")>,\n",
       " <selenium.webdriver.remote.webelement.WebElement (session=\"1d5c9adab03e4c3d1a7c4336634fa2cb\", element=\"0.7272109565572882-132\")>,\n",
       " <selenium.webdriver.remote.webelement.WebElement (session=\"1d5c9adab03e4c3d1a7c4336634fa2cb\", element=\"0.7272109565572882-133\")>,\n",
       " <selenium.webdriver.remote.webelement.WebElement (session=\"1d5c9adab03e4c3d1a7c4336634fa2cb\", element=\"0.7272109565572882-134\")>,\n",
       " <selenium.webdriver.remote.webelement.WebElement (session=\"1d5c9adab03e4c3d1a7c4336634fa2cb\", element=\"0.7272109565572882-135\")>,\n",
       " <selenium.webdriver.remote.webelement.WebElement (session=\"1d5c9adab03e4c3d1a7c4336634fa2cb\", element=\"0.7272109565572882-136\")>,\n",
       " <selenium.webdriver.remote.webelement.WebElement (session=\"1d5c9adab03e4c3d1a7c4336634fa2cb\", element=\"0.7272109565572882-137\")>,\n",
       " <selenium.webdriver.remote.webelement.WebElement (session=\"1d5c9adab03e4c3d1a7c4336634fa2cb\", element=\"0.7272109565572882-138\")>,\n",
       " <selenium.webdriver.remote.webelement.WebElement (session=\"1d5c9adab03e4c3d1a7c4336634fa2cb\", element=\"0.7272109565572882-139\")>,\n",
       " <selenium.webdriver.remote.webelement.WebElement (session=\"1d5c9adab03e4c3d1a7c4336634fa2cb\", element=\"0.7272109565572882-140\")>,\n",
       " <selenium.webdriver.remote.webelement.WebElement (session=\"1d5c9adab03e4c3d1a7c4336634fa2cb\", element=\"0.7272109565572882-141\")>,\n",
       " <selenium.webdriver.remote.webelement.WebElement (session=\"1d5c9adab03e4c3d1a7c4336634fa2cb\", element=\"0.7272109565572882-142\")>,\n",
       " <selenium.webdriver.remote.webelement.WebElement (session=\"1d5c9adab03e4c3d1a7c4336634fa2cb\", element=\"0.7272109565572882-143\")>,\n",
       " <selenium.webdriver.remote.webelement.WebElement (session=\"1d5c9adab03e4c3d1a7c4336634fa2cb\", element=\"0.7272109565572882-144\")>,\n",
       " <selenium.webdriver.remote.webelement.WebElement (session=\"1d5c9adab03e4c3d1a7c4336634fa2cb\", element=\"0.7272109565572882-145\")>,\n",
       " <selenium.webdriver.remote.webelement.WebElement (session=\"1d5c9adab03e4c3d1a7c4336634fa2cb\", element=\"0.7272109565572882-146\")>,\n",
       " <selenium.webdriver.remote.webelement.WebElement (session=\"1d5c9adab03e4c3d1a7c4336634fa2cb\", element=\"0.7272109565572882-147\")>,\n",
       " <selenium.webdriver.remote.webelement.WebElement (session=\"1d5c9adab03e4c3d1a7c4336634fa2cb\", element=\"0.7272109565572882-148\")>,\n",
       " <selenium.webdriver.remote.webelement.WebElement (session=\"1d5c9adab03e4c3d1a7c4336634fa2cb\", element=\"0.7272109565572882-149\")>,\n",
       " <selenium.webdriver.remote.webelement.WebElement (session=\"1d5c9adab03e4c3d1a7c4336634fa2cb\", element=\"0.7272109565572882-150\")>,\n",
       " <selenium.webdriver.remote.webelement.WebElement (session=\"1d5c9adab03e4c3d1a7c4336634fa2cb\", element=\"0.7272109565572882-151\")>,\n",
       " <selenium.webdriver.remote.webelement.WebElement (session=\"1d5c9adab03e4c3d1a7c4336634fa2cb\", element=\"0.7272109565572882-152\")>,\n",
       " <selenium.webdriver.remote.webelement.WebElement (session=\"1d5c9adab03e4c3d1a7c4336634fa2cb\", element=\"0.7272109565572882-153\")>,\n",
       " <selenium.webdriver.remote.webelement.WebElement (session=\"1d5c9adab03e4c3d1a7c4336634fa2cb\", element=\"0.7272109565572882-154\")>,\n",
       " <selenium.webdriver.remote.webelement.WebElement (session=\"1d5c9adab03e4c3d1a7c4336634fa2cb\", element=\"0.7272109565572882-155\")>,\n",
       " <selenium.webdriver.remote.webelement.WebElement (session=\"1d5c9adab03e4c3d1a7c4336634fa2cb\", element=\"0.7272109565572882-156\")>,\n",
       " <selenium.webdriver.remote.webelement.WebElement (session=\"1d5c9adab03e4c3d1a7c4336634fa2cb\", element=\"0.7272109565572882-157\")>,\n",
       " <selenium.webdriver.remote.webelement.WebElement (session=\"1d5c9adab03e4c3d1a7c4336634fa2cb\", element=\"0.7272109565572882-158\")>,\n",
       " <selenium.webdriver.remote.webelement.WebElement (session=\"1d5c9adab03e4c3d1a7c4336634fa2cb\", element=\"0.7272109565572882-159\")>,\n",
       " <selenium.webdriver.remote.webelement.WebElement (session=\"1d5c9adab03e4c3d1a7c4336634fa2cb\", element=\"0.7272109565572882-160\")>,\n",
       " <selenium.webdriver.remote.webelement.WebElement (session=\"1d5c9adab03e4c3d1a7c4336634fa2cb\", element=\"0.7272109565572882-161\")>,\n",
       " <selenium.webdriver.remote.webelement.WebElement (session=\"1d5c9adab03e4c3d1a7c4336634fa2cb\", element=\"0.7272109565572882-162\")>,\n",
       " <selenium.webdriver.remote.webelement.WebElement (session=\"1d5c9adab03e4c3d1a7c4336634fa2cb\", element=\"0.7272109565572882-163\")>,\n",
       " <selenium.webdriver.remote.webelement.WebElement (session=\"1d5c9adab03e4c3d1a7c4336634fa2cb\", element=\"0.7272109565572882-164\")>,\n",
       " <selenium.webdriver.remote.webelement.WebElement (session=\"1d5c9adab03e4c3d1a7c4336634fa2cb\", element=\"0.7272109565572882-165\")>,\n",
       " <selenium.webdriver.remote.webelement.WebElement (session=\"1d5c9adab03e4c3d1a7c4336634fa2cb\", element=\"0.7272109565572882-166\")>,\n",
       " <selenium.webdriver.remote.webelement.WebElement (session=\"1d5c9adab03e4c3d1a7c4336634fa2cb\", element=\"0.7272109565572882-167\")>,\n",
       " <selenium.webdriver.remote.webelement.WebElement (session=\"1d5c9adab03e4c3d1a7c4336634fa2cb\", element=\"0.7272109565572882-168\")>,\n",
       " <selenium.webdriver.remote.webelement.WebElement (session=\"1d5c9adab03e4c3d1a7c4336634fa2cb\", element=\"0.7272109565572882-169\")>,\n",
       " <selenium.webdriver.remote.webelement.WebElement (session=\"1d5c9adab03e4c3d1a7c4336634fa2cb\", element=\"0.7272109565572882-170\")>,\n",
       " <selenium.webdriver.remote.webelement.WebElement (session=\"1d5c9adab03e4c3d1a7c4336634fa2cb\", element=\"0.7272109565572882-171\")>,\n",
       " <selenium.webdriver.remote.webelement.WebElement (session=\"1d5c9adab03e4c3d1a7c4336634fa2cb\", element=\"0.7272109565572882-172\")>,\n",
       " <selenium.webdriver.remote.webelement.WebElement (session=\"1d5c9adab03e4c3d1a7c4336634fa2cb\", element=\"0.7272109565572882-173\")>,\n",
       " <selenium.webdriver.remote.webelement.WebElement (session=\"1d5c9adab03e4c3d1a7c4336634fa2cb\", element=\"0.7272109565572882-174\")>,\n",
       " <selenium.webdriver.remote.webelement.WebElement (session=\"1d5c9adab03e4c3d1a7c4336634fa2cb\", element=\"0.7272109565572882-175\")>]"
      ]
     },
     "execution_count": 93,
     "metadata": {},
     "output_type": "execute_result"
    }
   ],
   "source": [
    "content"
   ]
  },
  {
   "cell_type": "code",
   "execution_count": 94,
   "metadata": {},
   "outputs": [
    {
     "data": {
      "text/plain": [
       "'https://draft.fish/ideas/block-chain-for-cars'"
      ]
     },
     "execution_count": 94,
     "metadata": {},
     "output_type": "execute_result"
    }
   ],
   "source": [
    "content[0].get_attribute(\"href\")"
   ]
  },
  {
   "cell_type": "code",
   "execution_count": 95,
   "metadata": {},
   "outputs": [],
   "source": [
    "urls = []\n",
    "for n in range(len(content)):\n",
    "    urls.append(content[n].get_attribute(\"href\"))"
   ]
  },
  {
   "cell_type": "code",
   "execution_count": 96,
   "metadata": {},
   "outputs": [
    {
     "data": {
      "text/plain": [
       "'https://draft.fish/ideas/block-chain-for-cars'"
      ]
     },
     "execution_count": 96,
     "metadata": {},
     "output_type": "execute_result"
    }
   ],
   "source": [
    "urls[0]"
   ]
  },
  {
   "cell_type": "code",
   "execution_count": 97,
   "metadata": {},
   "outputs": [
    {
     "data": {
      "text/plain": [
       "['https://draft.fish/ideas/block-chain-for-cars',\n",
       " 'https://draft.fish/ideas/the-double-sided-hanger',\n",
       " 'https://draft.fish/ideas/suction-based-water-bottle-which-doesnt-create-a-vacuum-in-the-bottle',\n",
       " 'https://draft.fish/ideas/water-taxis',\n",
       " 'https://draft.fish/ideas/drink-driving',\n",
       " 'https://draft.fish/ideas/the-usb-locator',\n",
       " 'https://draft.fish/ideas/the-youtube-music-algorithm',\n",
       " 'https://draft.fish/ideas/sslfcesz0r5il604vz7izfhkujk6e9',\n",
       " 'https://draft.fish/ideas/instant-rest',\n",
       " 'https://draft.fish/ideas/nyse',\n",
       " 'https://draft.fish/ideas/replenisher',\n",
       " 'https://draft.fish/ideas/runway-djs',\n",
       " 'https://draft.fish/ideas/ear-wax',\n",
       " 'https://draft.fish/ideas/empty-subway-carriages',\n",
       " 'https://draft.fish/ideas/back-pains',\n",
       " 'https://draft.fish/ideas/dish-drying',\n",
       " 'https://draft.fish/ideas/shazam-for-films',\n",
       " 'https://draft.fish/ideas/the-pun-generator',\n",
       " 'https://draft.fish/ideas/music-transposer',\n",
       " 'https://draft.fish/ideas/neck-warmer',\n",
       " 'https://draft.fish/ideas/universal-course-reviewer',\n",
       " 'https://draft.fish/ideas/touch-sensitive-keyboard',\n",
       " 'https://draft.fish/ideas/the-un-is-weak-we-need-uh',\n",
       " 'https://draft.fish/ideas/waterproof-park-benches',\n",
       " 'https://draft.fish/ideas/foot-warmer',\n",
       " 'https://draft.fish/ideas/virtual-job',\n",
       " 'https://draft.fish/ideas/life-hack-compendium',\n",
       " 'https://draft.fish/ideas/first-job-coach',\n",
       " 'https://draft.fish/ideas/gym-form',\n",
       " 'https://draft.fish/ideas/messenger-conglomeration',\n",
       " 'https://draft.fish/ideas/ranking-of-job-difficulty',\n",
       " 'https://draft.fish/ideas/profile-manager',\n",
       " 'https://draft.fish/ideas/map-of-celebrity-sightings',\n",
       " 'https://draft.fish/ideas/shoe-friction',\n",
       " 'https://draft.fish/ideas/the-distance-in-the-parking-lot',\n",
       " 'https://draft.fish/ideas/dvrs-need-to-improve',\n",
       " 'https://draft.fish/ideas/easier-to-drink-water',\n",
       " 'https://draft.fish/ideas/an-app-to-practice-your-handwriting',\n",
       " 'https://draft.fish/ideas/non-stick-aluminum-foil',\n",
       " 'https://draft.fish/ideas/cant-figure-out-what-to-watch-on-netflix',\n",
       " 'https://draft.fish/ideas/personal-jesus',\n",
       " 'https://draft.fish/ideas/drive-thru-liquor-store',\n",
       " 'https://draft.fish/ideas/urban-white-noise-machine',\n",
       " 'https://draft.fish/ideas/stainless-mirror',\n",
       " 'https://draft.fish/ideas/bag-which-is-easy-to-carry',\n",
       " 'https://draft.fish/ideas/plastic-bottles',\n",
       " 'https://draft.fish/ideas/over-eating',\n",
       " 'https://draft.fish/ideas/fixing-split-ends',\n",
       " 'https://draft.fish/ideas/internet-fact-curation',\n",
       " 'https://draft.fish/ideas/automatic-heating-at-bus-shelters',\n",
       " 'https://draft.fish/ideas/watch-bands-are-hard-to-put-on',\n",
       " 'https://draft.fish/ideas/price-comparison',\n",
       " 'https://draft.fish/ideas/temporary-email',\n",
       " 'https://draft.fish/ideas/financial-planning-for-kids',\n",
       " 'https://draft.fish/ideas/career-transition-assistance',\n",
       " 'https://draft.fish/ideas/link-verifier',\n",
       " 'https://draft.fish/ideas/chatting-with-the-enemy',\n",
       " 'https://draft.fish/ideas/charity-watchdog',\n",
       " 'https://draft.fish/ideas/cash-calculator',\n",
       " 'https://draft.fish/ideas/super-fast-water-boiler',\n",
       " 'https://draft.fish/ideas/the-prison-systsem-is-broken',\n",
       " 'https://draft.fish/ideas/snow-melter',\n",
       " 'https://draft.fish/ideas/food-deserts',\n",
       " 'https://draft.fish/ideas/reuse-rain-water',\n",
       " 'https://draft.fish/ideas/aesthetic-moods',\n",
       " 'https://draft.fish/ideas/fragrance-scent-testers',\n",
       " 'https://draft.fish/ideas/more-durable-boots',\n",
       " 'https://draft.fish/ideas/the-sight-reader',\n",
       " 'https://draft.fish/ideas/2-minute-tutorials',\n",
       " 'https://draft.fish/ideas/tab-volume',\n",
       " 'https://draft.fish/ideas/why-is-furniture-from-ikea-still-hard-to-assemble',\n",
       " 'https://draft.fish/ideas/self-tuning-guitar',\n",
       " 'https://draft.fish/ideas/wrong-temperature-bath',\n",
       " 'https://draft.fish/ideas/tights-with-holes',\n",
       " 'https://draft.fish/ideas/photomeasurement',\n",
       " 'https://draft.fish/ideas/quantum-storage',\n",
       " 'https://draft.fish/ideas/warm-bicycle-handles',\n",
       " 'https://draft.fish/ideas/two-factor-authentication-sucks',\n",
       " 'https://draft.fish/ideas/fingerprints-run-the-world',\n",
       " 'https://draft.fish/ideas/spelling-things-over-the-phone',\n",
       " 'https://draft.fish/ideas/small-pieces-of-info-not-available-on-internet',\n",
       " 'https://draft.fish/ideas/how-to-make-gps-more-accurate',\n",
       " 'https://draft.fish/ideas/tech-training-school-for-disaffected-areas',\n",
       " 'https://draft.fish/ideas/mutual-fund-for-cryptocurrency',\n",
       " 'https://draft.fish/ideas/encouraging-people-to-take-their-medication',\n",
       " 'https://draft.fish/ideas/how-to-get-rid-of-hangovers',\n",
       " 'https://draft.fish/ideas/make-pills-easier-to-swallow',\n",
       " 'https://draft.fish/ideas/pillows-that-give-lower-back-support',\n",
       " 'https://draft.fish/ideas/comfort-on-planes',\n",
       " 'https://draft.fish/ideas/charger-tracker',\n",
       " 'https://draft.fish/ideas/cold-hands',\n",
       " 'https://draft.fish/ideas/cushion-feathers',\n",
       " 'https://draft.fish/ideas/soft-block-feature-on-instagram',\n",
       " 'https://draft.fish/ideas/environmentally-conscious-beauty-product-app',\n",
       " 'https://draft.fish/ideas/snapchat-needs-a-redesign',\n",
       " 'https://draft.fish/ideas/temporary-hostel',\n",
       " 'https://draft.fish/ideas/organic-pet-food',\n",
       " 'https://draft.fish/ideas/inout-network-database',\n",
       " 'https://draft.fish/ideas/predictive-health',\n",
       " 'https://draft.fish/ideas/cryptocurrency-realtime-tracker',\n",
       " 'https://draft.fish/ideas/find-a-friend',\n",
       " 'https://draft.fish/ideas/better-cuticle-maintenance-tools',\n",
       " 'https://draft.fish/ideas/car-dealerships',\n",
       " 'https://draft.fish/ideas/cleaner-for-microfiber-cleaning-cloths',\n",
       " 'https://draft.fish/ideas/salty-snowboots',\n",
       " 'https://draft.fish/ideas/book-swapping-for-students',\n",
       " 'https://draft.fish/ideas/dog-walking-app',\n",
       " 'https://draft.fish/ideas/automatic-dog-food',\n",
       " 'https://draft.fish/ideas/better-lotion',\n",
       " 'https://draft.fish/ideas/in-shower-shampoo-dispenser',\n",
       " 'https://draft.fish/ideas/portable-moist-wipe-machine',\n",
       " 'https://draft.fish/ideas/iphone-stand-for-toilet',\n",
       " 'https://draft.fish/ideas/duvet-pins',\n",
       " 'https://draft.fish/ideas/the-glove-scrubber',\n",
       " 'https://draft.fish/ideas/better-gloves',\n",
       " 'https://draft.fish/ideas/better-ways-to-light-candles',\n",
       " 'https://draft.fish/ideas/the-smooth-shirt',\n",
       " 'https://draft.fish/ideas/super-versatile-jacket',\n",
       " 'https://draft.fish/ideas/make-boogie-boardingsurfing-more-comfortable',\n",
       " 'https://draft.fish/ideas/tennis-serving-machine',\n",
       " 'https://draft.fish/ideas/waterproof-paper',\n",
       " 'https://draft.fish/ideas/bartending-agency',\n",
       " 'https://draft.fish/ideas/halal-finder',\n",
       " 'https://draft.fish/ideas/bug-food',\n",
       " 'https://draft.fish/ideas/irrustible-steel',\n",
       " 'https://draft.fish/ideas/how-to-get-people-to-go-to-the-gym',\n",
       " 'https://draft.fish/ideas/iphone-nighstand',\n",
       " 'https://draft.fish/ideas/the-thermo-jacket',\n",
       " 'https://draft.fish/ideas/make-bloodtestsshotsivs-less-painful',\n",
       " 'https://draft.fish/ideas/a-quick-way-to-clean-email',\n",
       " 'https://draft.fish/ideas/object-detector-app',\n",
       " 'https://draft.fish/ideas/messages-app-the-replies-with-sound',\n",
       " 'https://draft.fish/ideas/rank-problems-by-people-who-have-them',\n",
       " 'https://draft.fish/ideas/sweeping-up-crumbs',\n",
       " 'https://draft.fish/ideas/zipper-bedsheets',\n",
       " 'https://draft.fish/ideas/comprehensive-health-care',\n",
       " 'https://draft.fish/ideas/the-moist-microwave',\n",
       " 'https://draft.fish/ideas/an-app-that-tells-you-when-to-sleep',\n",
       " 'https://draft.fish/ideas/your-belt-will-always-look-brand-new',\n",
       " 'https://draft.fish/ideas/always-shiny-shoes',\n",
       " 'https://draft.fish/ideas/help-old-people-with-tech',\n",
       " 'https://draft.fish/ideas/detachable-ice-skates',\n",
       " 'https://draft.fish/ideas/extra-meal-swipes',\n",
       " 'https://draft.fish/ideas/gauging-demand-for-courses',\n",
       " 'https://draft.fish/ideas/lightbulb-that-doesnt-shatter-upon-impact',\n",
       " 'https://draft.fish/ideas/free-buffets',\n",
       " 'https://draft.fish/ideas/long-spaghetti-pot',\n",
       " 'https://draft.fish/ideas/adhesive-color-aid-tiles',\n",
       " 'https://draft.fish/ideas/a-basketball-that-never-deflates',\n",
       " 'https://draft.fish/ideas/tripod-plates-dont-fit-on-all-tripods-and-cameras',\n",
       " 'https://draft.fish/ideas/a-way-to-gtfo-from-a-restaurant-instead-of-waiting-for-a-check',\n",
       " 'https://draft.fish/ideas/a-way-to-find-recipes-for-items-in-your-fridge-if-you-dont-want-to-go-out-and-buy-more-food',\n",
       " 'https://draft.fish/ideas/better-way-to-find-classes',\n",
       " 'https://draft.fish/ideas/sleeping-in-dorms',\n",
       " 'https://draft.fish/ideas/a-bath-mat-thats-doesnt-get-soggy',\n",
       " 'https://draft.fish/ideas/too-many-emails-nyu',\n",
       " 'https://draft.fish/ideas/drunk-texting',\n",
       " 'https://draft.fish/ideas/crowd-dj-app',\n",
       " 'https://draft.fish/ideas/actually-good-looking-nyu-apparel',\n",
       " 'https://draft.fish/ideas/dishes',\n",
       " 'https://draft.fish/ideas/pre-packed-smoothie-ingredients',\n",
       " 'https://draft.fish/ideas/adhd-website',\n",
       " 'https://draft.fish/ideas/a-good-bed-for-bed-forum',\n",
       " 'https://draft.fish/ideas/2017/7/4/quinoa-bowl-kit',\n",
       " 'https://draft.fish/ideas/2017/7/4/unspillable-cup-holder',\n",
       " 'https://draft.fish/ideas/2017/6/26/startup-team-building-site',\n",
       " 'https://draft.fish/ideas/2017/6/26/mini-universal-camera',\n",
       " 'https://draft.fish/ideas/2017/6/26/collaborative-video-editing-app',\n",
       " 'https://draft.fish/ideas/2017/6/26/probiotic-travel-website',\n",
       " 'https://draft.fish/ideas/2017/6/26/how-to-clean-website',\n",
       " 'https://draft.fish/ideas/2017/6/26/suitcase-that-actually-helps-you-be-organized',\n",
       " 'https://draft.fish/ideas/2017/6/26/calendar-app-based-off-of-cal-newport-book',\n",
       " 'https://draft.fish/ideas/2017/6/26/lens-cap-with-microfiber-cleaner',\n",
       " 'https://draft.fish/ideas/2017/6/26/frisbee-with-removable-bottom-ring',\n",
       " 'https://draft.fish/ideas/2017/6/26/p2p-commerce-device-resale']"
      ]
     },
     "execution_count": 97,
     "metadata": {},
     "output_type": "execute_result"
    }
   ],
   "source": [
    "urls"
   ]
  },
  {
   "cell_type": "code",
   "execution_count": 87,
   "metadata": {},
   "outputs": [
    {
     "ename": "WebDriverException",
     "evalue": "Message: chrome not reachable\n  (Session info: chrome=69.0.3497.100)\n  (Driver info: chromedriver=2.42.591088 (7b2b2dca23cca0862f674758c9a3933e685c27d5),platform=Windows NT 10.0.17134 x86_64)\n",
     "output_type": "error",
     "traceback": [
      "\u001b[1;31m---------------------------------------------------------------------------\u001b[0m",
      "\u001b[1;31mWebDriverException\u001b[0m                        Traceback (most recent call last)",
      "\u001b[1;32m<ipython-input-87-5ed5d397503d>\u001b[0m in \u001b[0;36m<module>\u001b[1;34m()\u001b[0m\n\u001b[1;32m----> 1\u001b[1;33m \u001b[0mdriver\u001b[0m\u001b[1;33m.\u001b[0m\u001b[0mget\u001b[0m\u001b[1;33m(\u001b[0m\u001b[1;34m'https://draft.fish/ideas/block-chain-for-cars'\u001b[0m\u001b[1;33m)\u001b[0m\u001b[1;33m\u001b[0m\u001b[0m\n\u001b[0m",
      "\u001b[1;32m~\\Anaconda3\\lib\\site-packages\\selenium\\webdriver\\remote\\webdriver.py\u001b[0m in \u001b[0;36mget\u001b[1;34m(self, url)\u001b[0m\n\u001b[0;32m    331\u001b[0m         \u001b[0mLoads\u001b[0m \u001b[0ma\u001b[0m \u001b[0mweb\u001b[0m \u001b[0mpage\u001b[0m \u001b[1;32min\u001b[0m \u001b[0mthe\u001b[0m \u001b[0mcurrent\u001b[0m \u001b[0mbrowser\u001b[0m \u001b[0msession\u001b[0m\u001b[1;33m.\u001b[0m\u001b[1;33m\u001b[0m\u001b[0m\n\u001b[0;32m    332\u001b[0m         \"\"\"\n\u001b[1;32m--> 333\u001b[1;33m         \u001b[0mself\u001b[0m\u001b[1;33m.\u001b[0m\u001b[0mexecute\u001b[0m\u001b[1;33m(\u001b[0m\u001b[0mCommand\u001b[0m\u001b[1;33m.\u001b[0m\u001b[0mGET\u001b[0m\u001b[1;33m,\u001b[0m \u001b[1;33m{\u001b[0m\u001b[1;34m'url'\u001b[0m\u001b[1;33m:\u001b[0m \u001b[0murl\u001b[0m\u001b[1;33m}\u001b[0m\u001b[1;33m)\u001b[0m\u001b[1;33m\u001b[0m\u001b[0m\n\u001b[0m\u001b[0;32m    334\u001b[0m \u001b[1;33m\u001b[0m\u001b[0m\n\u001b[0;32m    335\u001b[0m     \u001b[1;33m@\u001b[0m\u001b[0mproperty\u001b[0m\u001b[1;33m\u001b[0m\u001b[0m\n",
      "\u001b[1;32m~\\Anaconda3\\lib\\site-packages\\selenium\\webdriver\\remote\\webdriver.py\u001b[0m in \u001b[0;36mexecute\u001b[1;34m(self, driver_command, params)\u001b[0m\n\u001b[0;32m    319\u001b[0m         \u001b[0mresponse\u001b[0m \u001b[1;33m=\u001b[0m \u001b[0mself\u001b[0m\u001b[1;33m.\u001b[0m\u001b[0mcommand_executor\u001b[0m\u001b[1;33m.\u001b[0m\u001b[0mexecute\u001b[0m\u001b[1;33m(\u001b[0m\u001b[0mdriver_command\u001b[0m\u001b[1;33m,\u001b[0m \u001b[0mparams\u001b[0m\u001b[1;33m)\u001b[0m\u001b[1;33m\u001b[0m\u001b[0m\n\u001b[0;32m    320\u001b[0m         \u001b[1;32mif\u001b[0m \u001b[0mresponse\u001b[0m\u001b[1;33m:\u001b[0m\u001b[1;33m\u001b[0m\u001b[0m\n\u001b[1;32m--> 321\u001b[1;33m             \u001b[0mself\u001b[0m\u001b[1;33m.\u001b[0m\u001b[0merror_handler\u001b[0m\u001b[1;33m.\u001b[0m\u001b[0mcheck_response\u001b[0m\u001b[1;33m(\u001b[0m\u001b[0mresponse\u001b[0m\u001b[1;33m)\u001b[0m\u001b[1;33m\u001b[0m\u001b[0m\n\u001b[0m\u001b[0;32m    322\u001b[0m             response['value'] = self._unwrap_value(\n\u001b[0;32m    323\u001b[0m                 response.get('value', None))\n",
      "\u001b[1;32m~\\Anaconda3\\lib\\site-packages\\selenium\\webdriver\\remote\\errorhandler.py\u001b[0m in \u001b[0;36mcheck_response\u001b[1;34m(self, response)\u001b[0m\n\u001b[0;32m    240\u001b[0m                 \u001b[0malert_text\u001b[0m \u001b[1;33m=\u001b[0m \u001b[0mvalue\u001b[0m\u001b[1;33m[\u001b[0m\u001b[1;34m'alert'\u001b[0m\u001b[1;33m]\u001b[0m\u001b[1;33m.\u001b[0m\u001b[0mget\u001b[0m\u001b[1;33m(\u001b[0m\u001b[1;34m'text'\u001b[0m\u001b[1;33m)\u001b[0m\u001b[1;33m\u001b[0m\u001b[0m\n\u001b[0;32m    241\u001b[0m             \u001b[1;32mraise\u001b[0m \u001b[0mexception_class\u001b[0m\u001b[1;33m(\u001b[0m\u001b[0mmessage\u001b[0m\u001b[1;33m,\u001b[0m \u001b[0mscreen\u001b[0m\u001b[1;33m,\u001b[0m \u001b[0mstacktrace\u001b[0m\u001b[1;33m,\u001b[0m \u001b[0malert_text\u001b[0m\u001b[1;33m)\u001b[0m\u001b[1;33m\u001b[0m\u001b[0m\n\u001b[1;32m--> 242\u001b[1;33m         \u001b[1;32mraise\u001b[0m \u001b[0mexception_class\u001b[0m\u001b[1;33m(\u001b[0m\u001b[0mmessage\u001b[0m\u001b[1;33m,\u001b[0m \u001b[0mscreen\u001b[0m\u001b[1;33m,\u001b[0m \u001b[0mstacktrace\u001b[0m\u001b[1;33m)\u001b[0m\u001b[1;33m\u001b[0m\u001b[0m\n\u001b[0m\u001b[0;32m    243\u001b[0m \u001b[1;33m\u001b[0m\u001b[0m\n\u001b[0;32m    244\u001b[0m     \u001b[1;32mdef\u001b[0m \u001b[0m_value_or_default\u001b[0m\u001b[1;33m(\u001b[0m\u001b[0mself\u001b[0m\u001b[1;33m,\u001b[0m \u001b[0mobj\u001b[0m\u001b[1;33m,\u001b[0m \u001b[0mkey\u001b[0m\u001b[1;33m,\u001b[0m \u001b[0mdefault\u001b[0m\u001b[1;33m)\u001b[0m\u001b[1;33m:\u001b[0m\u001b[1;33m\u001b[0m\u001b[0m\n",
      "\u001b[1;31mWebDriverException\u001b[0m: Message: chrome not reachable\n  (Session info: chrome=69.0.3497.100)\n  (Driver info: chromedriver=2.42.591088 (7b2b2dca23cca0862f674758c9a3933e685c27d5),platform=Windows NT 10.0.17134 x86_64)\n"
     ]
    }
   ],
   "source": [
    "driver.get('https://draft.fish/ideas/block-chain-for-cars')"
   ]
  },
  {
   "cell_type": "code",
   "execution_count": 64,
   "metadata": {},
   "outputs": [
    {
     "data": {
      "text/plain": [
       "'JAN'"
      ]
     },
     "execution_count": 64,
     "metadata": {},
     "output_type": "execute_result"
    }
   ],
   "source": [
    "first_month = driver.find_element_by_class_name('month').text\n",
    "first_month"
   ]
  },
  {
   "cell_type": "code",
   "execution_count": 65,
   "metadata": {},
   "outputs": [
    {
     "data": {
      "text/plain": [
       "'25'"
      ]
     },
     "execution_count": 65,
     "metadata": {},
     "output_type": "execute_result"
    }
   ],
   "source": [
    "first_day = day = driver.find_element_by_class_name('day').text\n",
    "first_day"
   ]
  },
  {
   "cell_type": "code",
   "execution_count": null,
   "metadata": {},
   "outputs": [],
   "source": []
  },
  {
   "cell_type": "code",
   "execution_count": 71,
   "metadata": {},
   "outputs": [
    {
     "data": {
      "text/plain": [
       "'RISHI NARAIN'"
      ]
     },
     "execution_count": 71,
     "metadata": {},
     "output_type": "execute_result"
    }
   ],
   "source": [
    "first_author = driver.find_element_by_class_name('blog-author-name').text\n",
    "first_author"
   ]
  },
  {
   "cell_type": "code",
   "execution_count": 74,
   "metadata": {},
   "outputs": [
    {
     "data": {
      "text/plain": [
       "'idea: a ledger that details car repairs, accidents, etc..'"
      ]
     },
     "execution_count": 74,
     "metadata": {},
     "output_type": "execute_result"
    }
   ],
   "source": [
    "first_desc = driver.find_element_by_tag_name('p').text\n",
    "first_desc"
   ]
  },
  {
   "cell_type": "code",
   "execution_count": 76,
   "metadata": {},
   "outputs": [
    {
     "data": {
      "text/plain": [
       "'2018-01-25'"
      ]
     },
     "execution_count": 76,
     "metadata": {},
     "output_type": "execute_result"
    }
   ],
   "source": [
    "first_datetime = driver.find_element_by_tag_name('time').get_attribute('datetime')\n",
    "first_datetime"
   ]
  },
  {
   "cell_type": "code",
   "execution_count": 77,
   "metadata": {},
   "outputs": [
    {
     "data": {
      "text/plain": [
       "'Block chain for Cars'"
      ]
     },
     "execution_count": 77,
     "metadata": {},
     "output_type": "execute_result"
    }
   ],
   "source": [
    "first_idea = driver.find_element_by_tag_name('h2').text\n",
    "first_idea"
   ]
  },
  {
   "cell_type": "code",
   "execution_count": 80,
   "metadata": {},
   "outputs": [
    {
     "data": {
      "text/plain": [
       "'JAN 25'"
      ]
     },
     "execution_count": 80,
     "metadata": {},
     "output_type": "execute_result"
    }
   ],
   "source": [
    "first_pubdate = driver.find_element_by_tag_name('time').text.replace('\\n', ' ')\n",
    "first_pubdate"
   ]
  },
  {
   "cell_type": "code",
   "execution_count": 100,
   "metadata": {},
   "outputs": [
    {
     "data": {
      "text/plain": [
       "'https://draft.fish/ideas/the-double-sided-hanger'"
      ]
     },
     "execution_count": 100,
     "metadata": {},
     "output_type": "execute_result"
    }
   ],
   "source": [
    "urls[1]"
   ]
  },
  {
   "cell_type": "code",
   "execution_count": null,
   "metadata": {},
   "outputs": [],
   "source": []
  },
  {
   "cell_type": "code",
   "execution_count": 101,
   "metadata": {},
   "outputs": [],
   "source": [
    "from selenium import webdriver\n",
    "driver = webdriver.Chrome(r\"C:\\Users\\Spencer\\chrome driver\\chromedriver.exe\")\n",
    "\n",
    "pubdates = []\n",
    "ideas = []\n",
    "authors = []\n",
    "descs = []\n",
    "dts = []\n",
    "\n",
    "for url in urls:\n",
    "    driver.get(url)\n",
    "    \n",
    "    pubdate = driver.find_element_by_tag_name('time').text.replace('\\n', ' ') #works\n",
    "    pubdates.append(pubdate)\n",
    "    \n",
    "    idea = driver.find_element_by_tag_name('h2').text #works\n",
    "    ideas.append(idea)\n",
    "    \n",
    "    author = driver.find_element_by_class_name('blog-author-name').text #works\n",
    "    authors.append(author)\n",
    "    \n",
    "    desc = driver.find_element_by_tag_name('p').text #works\n",
    "    descs.append(desc)\n",
    "    \n",
    "    datetime = driver.find_element_by_tag_name('time').get_attribute('datetime') #works\n",
    "    dts.append(datetime)"
   ]
  },
  {
   "cell_type": "code",
   "execution_count": 102,
   "metadata": {},
   "outputs": [
    {
     "name": "stdout",
     "output_type": "stream",
     "text": [
      "<class 'pandas.core.frame.DataFrame'>\n",
      "RangeIndex: 175 entries, 0 to 174\n",
      "Data columns (total 5 columns):\n",
      "idea           175 non-null object\n",
      "author         175 non-null object\n",
      "description    175 non-null object\n",
      "pubdate        175 non-null object\n",
      "datetime       175 non-null object\n",
      "dtypes: object(5)\n",
      "memory usage: 6.9+ KB\n",
      "None\n"
     ]
    },
    {
     "data": {
      "text/html": [
       "<div>\n",
       "<style scoped>\n",
       "    .dataframe tbody tr th:only-of-type {\n",
       "        vertical-align: middle;\n",
       "    }\n",
       "\n",
       "    .dataframe tbody tr th {\n",
       "        vertical-align: top;\n",
       "    }\n",
       "\n",
       "    .dataframe thead th {\n",
       "        text-align: right;\n",
       "    }\n",
       "</style>\n",
       "<table border=\"1\" class=\"dataframe\">\n",
       "  <thead>\n",
       "    <tr style=\"text-align: right;\">\n",
       "      <th></th>\n",
       "      <th>idea</th>\n",
       "      <th>author</th>\n",
       "      <th>description</th>\n",
       "      <th>pubdate</th>\n",
       "      <th>datetime</th>\n",
       "    </tr>\n",
       "  </thead>\n",
       "  <tbody>\n",
       "    <tr>\n",
       "      <th>0</th>\n",
       "      <td>Block chain for Cars</td>\n",
       "      <td>RISHI NARAIN</td>\n",
       "      <td>idea: a ledger that details car repairs, accid...</td>\n",
       "      <td>JAN 25</td>\n",
       "      <td>2018-01-25</td>\n",
       "    </tr>\n",
       "    <tr>\n",
       "      <th>1</th>\n",
       "      <td>The double sided hanger</td>\n",
       "      <td>MATTHEW MOULTON</td>\n",
       "      <td>A hanger with two hooks. One on the left and a...</td>\n",
       "      <td>JAN 24</td>\n",
       "      <td>2018-01-24</td>\n",
       "    </tr>\n",
       "    <tr>\n",
       "      <th>2</th>\n",
       "      <td>Suction based water bottle which doesn't creat...</td>\n",
       "      <td>HECTOR COLES</td>\n",
       "      <td>Copyright  2018 Draft.Fish, Inc. All Rights Re...</td>\n",
       "      <td>JAN 22</td>\n",
       "      <td>2018-01-22</td>\n",
       "    </tr>\n",
       "    <tr>\n",
       "      <th>3</th>\n",
       "      <td>Water taxis</td>\n",
       "      <td>HECTOR COLES</td>\n",
       "      <td>A way to skip the traffic on the bridges into ...</td>\n",
       "      <td>JAN 22</td>\n",
       "      <td>2018-01-22</td>\n",
       "    </tr>\n",
       "    <tr>\n",
       "      <th>4</th>\n",
       "      <td>Drink driving</td>\n",
       "      <td>HECTOR COLES</td>\n",
       "      <td>Man on a bicycle comes to your bar/friends hou...</td>\n",
       "      <td>JAN 22</td>\n",
       "      <td>2018-01-22</td>\n",
       "    </tr>\n",
       "    <tr>\n",
       "      <th>5</th>\n",
       "      <td>The USB locator</td>\n",
       "      <td>MATTHEW MOULTON</td>\n",
       "      <td>An app on your phone that you can use to locat...</td>\n",
       "      <td>JAN 22</td>\n",
       "      <td>2018-01-22</td>\n",
       "    </tr>\n",
       "    <tr>\n",
       "      <th>6</th>\n",
       "      <td>The YouTube music algorithm</td>\n",
       "      <td>MICHELLE LORDUY</td>\n",
       "      <td>listening to music on YouTube is , in my opini...</td>\n",
       "      <td>JAN 22</td>\n",
       "      <td>2018-01-22</td>\n",
       "    </tr>\n",
       "    <tr>\n",
       "      <th>7</th>\n",
       "      <td>Food waste</td>\n",
       "      <td>MICHELLE LORDUY</td>\n",
       "      <td>a service that collects that day-old. food fro...</td>\n",
       "      <td>JAN 21</td>\n",
       "      <td>2018-01-21</td>\n",
       "    </tr>\n",
       "    <tr>\n",
       "      <th>8</th>\n",
       "      <td>instant rest</td>\n",
       "      <td>MICHELLE LORDUY</td>\n",
       "      <td>a way to get a full rested night of sleep with...</td>\n",
       "      <td>JAN 21</td>\n",
       "      <td>2018-01-21</td>\n",
       "    </tr>\n",
       "    <tr>\n",
       "      <th>9</th>\n",
       "      <td>nyse</td>\n",
       "      <td>MICHELLE LORDUY</td>\n",
       "      <td>Not Your Semester E (idk what the E may stand ...</td>\n",
       "      <td>JAN 21</td>\n",
       "      <td>2018-01-21</td>\n",
       "    </tr>\n",
       "  </tbody>\n",
       "</table>\n",
       "</div>"
      ],
      "text/plain": [
       "                                                idea           author  \\\n",
       "0                               Block chain for Cars     RISHI NARAIN   \n",
       "1                            The double sided hanger  MATTHEW MOULTON   \n",
       "2  Suction based water bottle which doesn't creat...     HECTOR COLES   \n",
       "3                                        Water taxis     HECTOR COLES   \n",
       "4                                      Drink driving     HECTOR COLES   \n",
       "5                                    The USB locator  MATTHEW MOULTON   \n",
       "6                        The YouTube music algorithm  MICHELLE LORDUY   \n",
       "7                                         Food waste  MICHELLE LORDUY   \n",
       "8                                       instant rest  MICHELLE LORDUY   \n",
       "9                                               nyse  MICHELLE LORDUY   \n",
       "\n",
       "                                         description pubdate    datetime  \n",
       "0  idea: a ledger that details car repairs, accid...  JAN 25  2018-01-25  \n",
       "1  A hanger with two hooks. One on the left and a...  JAN 24  2018-01-24  \n",
       "2  Copyright  2018 Draft.Fish, Inc. All Rights Re...  JAN 22  2018-01-22  \n",
       "3  A way to skip the traffic on the bridges into ...  JAN 22  2018-01-22  \n",
       "4  Man on a bicycle comes to your bar/friends hou...  JAN 22  2018-01-22  \n",
       "5  An app on your phone that you can use to locat...  JAN 22  2018-01-22  \n",
       "6  listening to music on YouTube is , in my opini...  JAN 22  2018-01-22  \n",
       "7  a service that collects that day-old. food fro...  JAN 21  2018-01-21  \n",
       "8  a way to get a full rested night of sleep with...  JAN 21  2018-01-21  \n",
       "9  Not Your Semester E (idk what the E may stand ...  JAN 21  2018-01-21  "
      ]
     },
     "execution_count": 102,
     "metadata": {},
     "output_type": "execute_result"
    }
   ],
   "source": [
    "import pandas as pd\n",
    "df = pd.DataFrame({'idea': ideas,\n",
    "                               'author': authors,\n",
    "                               'description': descs,\n",
    "                              'pubdate': pubdates,\n",
    "                              'datetime': dts})\n",
    "print(df.info())\n",
    "df.head(10)"
   ]
  },
  {
   "cell_type": "code",
   "execution_count": 103,
   "metadata": {},
   "outputs": [],
   "source": [
    "df.to_csv('draftfish_ideas')"
   ]
  },
  {
   "cell_type": "code",
   "execution_count": 107,
   "metadata": {},
   "outputs": [
    {
     "data": {
      "text/html": [
       "<div>\n",
       "<style scoped>\n",
       "    .dataframe tbody tr th:only-of-type {\n",
       "        vertical-align: middle;\n",
       "    }\n",
       "\n",
       "    .dataframe tbody tr th {\n",
       "        vertical-align: top;\n",
       "    }\n",
       "\n",
       "    .dataframe thead th {\n",
       "        text-align: right;\n",
       "    }\n",
       "</style>\n",
       "<table border=\"1\" class=\"dataframe\">\n",
       "  <thead>\n",
       "    <tr style=\"text-align: right;\">\n",
       "      <th></th>\n",
       "      <th>idea</th>\n",
       "      <th>author</th>\n",
       "      <th>description</th>\n",
       "      <th>pubdate</th>\n",
       "      <th>datetime</th>\n",
       "    </tr>\n",
       "  </thead>\n",
       "  <tbody>\n",
       "    <tr>\n",
       "      <th>0</th>\n",
       "      <td>Block chain for Cars</td>\n",
       "      <td>RISHI NARAIN</td>\n",
       "      <td>idea: a ledger that details car repairs, accid...</td>\n",
       "      <td>JAN 25</td>\n",
       "      <td>2018-01-25</td>\n",
       "    </tr>\n",
       "    <tr>\n",
       "      <th>1</th>\n",
       "      <td>The double sided hanger</td>\n",
       "      <td>MATTHEW MOULTON</td>\n",
       "      <td>A hanger with two hooks. One on the left and a...</td>\n",
       "      <td>JAN 24</td>\n",
       "      <td>2018-01-24</td>\n",
       "    </tr>\n",
       "    <tr>\n",
       "      <th>2</th>\n",
       "      <td>Suction based water bottle which doesn't creat...</td>\n",
       "      <td>HECTOR COLES</td>\n",
       "      <td>Copyright  2018 Draft.Fish, Inc. All Rights Re...</td>\n",
       "      <td>JAN 22</td>\n",
       "      <td>2018-01-22</td>\n",
       "    </tr>\n",
       "    <tr>\n",
       "      <th>3</th>\n",
       "      <td>Water taxis</td>\n",
       "      <td>HECTOR COLES</td>\n",
       "      <td>A way to skip the traffic on the bridges into ...</td>\n",
       "      <td>JAN 22</td>\n",
       "      <td>2018-01-22</td>\n",
       "    </tr>\n",
       "    <tr>\n",
       "      <th>4</th>\n",
       "      <td>Drink driving</td>\n",
       "      <td>HECTOR COLES</td>\n",
       "      <td>Man on a bicycle comes to your bar/friends hou...</td>\n",
       "      <td>JAN 22</td>\n",
       "      <td>2018-01-22</td>\n",
       "    </tr>\n",
       "    <tr>\n",
       "      <th>5</th>\n",
       "      <td>The USB locator</td>\n",
       "      <td>MATTHEW MOULTON</td>\n",
       "      <td>An app on your phone that you can use to locat...</td>\n",
       "      <td>JAN 22</td>\n",
       "      <td>2018-01-22</td>\n",
       "    </tr>\n",
       "    <tr>\n",
       "      <th>6</th>\n",
       "      <td>The YouTube music algorithm</td>\n",
       "      <td>MICHELLE LORDUY</td>\n",
       "      <td>listening to music on YouTube is , in my opini...</td>\n",
       "      <td>JAN 22</td>\n",
       "      <td>2018-01-22</td>\n",
       "    </tr>\n",
       "    <tr>\n",
       "      <th>7</th>\n",
       "      <td>Food waste</td>\n",
       "      <td>MICHELLE LORDUY</td>\n",
       "      <td>a service that collects that day-old. food fro...</td>\n",
       "      <td>JAN 21</td>\n",
       "      <td>2018-01-21</td>\n",
       "    </tr>\n",
       "    <tr>\n",
       "      <th>8</th>\n",
       "      <td>instant rest</td>\n",
       "      <td>MICHELLE LORDUY</td>\n",
       "      <td>a way to get a full rested night of sleep with...</td>\n",
       "      <td>JAN 21</td>\n",
       "      <td>2018-01-21</td>\n",
       "    </tr>\n",
       "    <tr>\n",
       "      <th>9</th>\n",
       "      <td>nyse</td>\n",
       "      <td>MICHELLE LORDUY</td>\n",
       "      <td>Not Your Semester E (idk what the E may stand ...</td>\n",
       "      <td>JAN 21</td>\n",
       "      <td>2018-01-21</td>\n",
       "    </tr>\n",
       "    <tr>\n",
       "      <th>10</th>\n",
       "      <td>Replenisher</td>\n",
       "      <td>MICHELLE LORDUY</td>\n",
       "      <td>Testing out a way to replenish tired muscles, ...</td>\n",
       "      <td>JAN 21</td>\n",
       "      <td>2018-01-21</td>\n",
       "    </tr>\n",
       "    <tr>\n",
       "      <th>11</th>\n",
       "      <td>Runway DJs</td>\n",
       "      <td>MICHELLE LORDUY</td>\n",
       "      <td>Problem: runway shows on YouTube don’t tell yo...</td>\n",
       "      <td>JAN 21</td>\n",
       "      <td>2018-01-21</td>\n",
       "    </tr>\n",
       "    <tr>\n",
       "      <th>12</th>\n",
       "      <td>Ear wax</td>\n",
       "      <td>HECTOR COLES</td>\n",
       "      <td>A simple solution to getting rid of ear wax</td>\n",
       "      <td>JAN 20</td>\n",
       "      <td>2018-01-20</td>\n",
       "    </tr>\n",
       "    <tr>\n",
       "      <th>13</th>\n",
       "      <td>Empty subway carriages</td>\n",
       "      <td>HECTOR COLES</td>\n",
       "      <td>App which tells you how full each subway carri...</td>\n",
       "      <td>JAN 20</td>\n",
       "      <td>2018-01-20</td>\n",
       "    </tr>\n",
       "    <tr>\n",
       "      <th>14</th>\n",
       "      <td>Back pains</td>\n",
       "      <td>HECTOR COLES</td>\n",
       "      <td>Self applied back pain solution</td>\n",
       "      <td>JAN 20</td>\n",
       "      <td>2018-01-20</td>\n",
       "    </tr>\n",
       "    <tr>\n",
       "      <th>15</th>\n",
       "      <td>Dish drying</td>\n",
       "      <td>HECTOR COLES</td>\n",
       "      <td>More efficient way to get dishes and cups than...</td>\n",
       "      <td>JAN 20</td>\n",
       "      <td>2018-01-20</td>\n",
       "    </tr>\n",
       "    <tr>\n",
       "      <th>16</th>\n",
       "      <td>Shazam for films</td>\n",
       "      <td>HECTOR COLES</td>\n",
       "      <td>Record the film/TV show on the app and it tell...</td>\n",
       "      <td>JAN 20</td>\n",
       "      <td>2018-01-20</td>\n",
       "    </tr>\n",
       "    <tr>\n",
       "      <th>17</th>\n",
       "      <td>The pun generator</td>\n",
       "      <td>MATTHEW MOULTON</td>\n",
       "      <td>An app that gives the user a random pun to tel...</td>\n",
       "      <td>JAN 19</td>\n",
       "      <td>2018-01-19</td>\n",
       "    </tr>\n",
       "    <tr>\n",
       "      <th>18</th>\n",
       "      <td>Music transposer</td>\n",
       "      <td>MATTHEW MOULTON</td>\n",
       "      <td>It takes a piece of music and shifts it to any...</td>\n",
       "      <td>JAN 19</td>\n",
       "      <td>2018-01-19</td>\n",
       "    </tr>\n",
       "    <tr>\n",
       "      <th>19</th>\n",
       "      <td>Neck warmer</td>\n",
       "      <td>MATTHEW MOULTON</td>\n",
       "      <td>A cloth sleeve to wear on your neck that heats...</td>\n",
       "      <td>JAN 18</td>\n",
       "      <td>2018-01-18</td>\n",
       "    </tr>\n",
       "    <tr>\n",
       "      <th>20</th>\n",
       "      <td>Universal Course Reviewer</td>\n",
       "      <td>SHENGJIE JI</td>\n",
       "      <td>A way to directly compare courses from courser...</td>\n",
       "      <td></td>\n",
       "      <td>2018-01-18</td>\n",
       "    </tr>\n",
       "    <tr>\n",
       "      <th>21</th>\n",
       "      <td>touch sensitive keyboard</td>\n",
       "      <td>SHENGJIE JI</td>\n",
       "      <td>keyboards less prone to water/food damage.</td>\n",
       "      <td>JAN 18</td>\n",
       "      <td>2018-01-18</td>\n",
       "    </tr>\n",
       "    <tr>\n",
       "      <th>22</th>\n",
       "      <td>the UN is weak, we need UH</td>\n",
       "      <td>MICHELLE LORDUY</td>\n",
       "      <td>humanity needs to be the standard of measuring...</td>\n",
       "      <td>JAN 17</td>\n",
       "      <td>2018-01-17</td>\n",
       "    </tr>\n",
       "    <tr>\n",
       "      <th>23</th>\n",
       "      <td>Waterproof park benches</td>\n",
       "      <td>MICHELLE LORDUY</td>\n",
       "      <td>park benches that are waterproof or dry quickl...</td>\n",
       "      <td></td>\n",
       "      <td>2018-01-17</td>\n",
       "    </tr>\n",
       "    <tr>\n",
       "      <th>24</th>\n",
       "      <td>Foot Warmer</td>\n",
       "      <td>SHENGJIE JI</td>\n",
       "      <td>hand warmer sized for shoes.</td>\n",
       "      <td>JAN 17</td>\n",
       "      <td>2018-01-17</td>\n",
       "    </tr>\n",
       "    <tr>\n",
       "      <th>25</th>\n",
       "      <td>Virtual Job</td>\n",
       "      <td>SHENGJIE JI</td>\n",
       "      <td>Practice for a job through an online experienc...</td>\n",
       "      <td>JAN 17</td>\n",
       "      <td>2018-01-17</td>\n",
       "    </tr>\n",
       "    <tr>\n",
       "      <th>26</th>\n",
       "      <td>Life Hack Compendium</td>\n",
       "      <td>SHENGJIE JI</td>\n",
       "      <td>What are some things you can do to get \"the mo...</td>\n",
       "      <td>JAN 17</td>\n",
       "      <td>2018-01-17</td>\n",
       "    </tr>\n",
       "    <tr>\n",
       "      <th>27</th>\n",
       "      <td>First Job Coach</td>\n",
       "      <td>SHENGJIE JI</td>\n",
       "      <td>Getting the first job is the hardest, it would...</td>\n",
       "      <td></td>\n",
       "      <td>2018-01-16</td>\n",
       "    </tr>\n",
       "    <tr>\n",
       "      <th>28</th>\n",
       "      <td>Gym Form</td>\n",
       "      <td>RISHI NARAIN</td>\n",
       "      <td>Problem: There needs to be a way that ensures ...</td>\n",
       "      <td>JAN 16</td>\n",
       "      <td>2018-01-16</td>\n",
       "    </tr>\n",
       "    <tr>\n",
       "      <th>29</th>\n",
       "      <td>Messenger Conglomeration</td>\n",
       "      <td>SHENGJIE JI</td>\n",
       "      <td>Instead of checking 5 apps for messages, check...</td>\n",
       "      <td>JAN 16</td>\n",
       "      <td>2018-01-16</td>\n",
       "    </tr>\n",
       "    <tr>\n",
       "      <th>...</th>\n",
       "      <td>...</td>\n",
       "      <td>...</td>\n",
       "      <td>...</td>\n",
       "      <td>...</td>\n",
       "      <td>...</td>\n",
       "    </tr>\n",
       "    <tr>\n",
       "      <th>145</th>\n",
       "      <td>Free buffets</td>\n",
       "      <td>RISHI NARAIN</td>\n",
       "      <td>App that tells you about events with free food...</td>\n",
       "      <td>NOV 9</td>\n",
       "      <td>2017-11-09</td>\n",
       "    </tr>\n",
       "    <tr>\n",
       "      <th>146</th>\n",
       "      <td>LONG SPAGHETTI POT</td>\n",
       "      <td>MICHELLE LORDUY</td>\n",
       "      <td>****a pot designed specifically for spaghetti.***</td>\n",
       "      <td>NOV 9</td>\n",
       "      <td>2017-11-09</td>\n",
       "    </tr>\n",
       "    <tr>\n",
       "      <th>147</th>\n",
       "      <td>Adhesive Color Aid Tiles</td>\n",
       "      <td>MICHELLE LORDUY</td>\n",
       "      <td>color-aid, but with velcro or some sort of adh...</td>\n",
       "      <td>NOV 9</td>\n",
       "      <td>2017-11-09</td>\n",
       "    </tr>\n",
       "    <tr>\n",
       "      <th>148</th>\n",
       "      <td>A Basketball that never deflates</td>\n",
       "      <td>MATTHEW MOULTON</td>\n",
       "      <td>Problem: My basketball deflates when exposed t...</td>\n",
       "      <td>NOV 9</td>\n",
       "      <td>2017-11-09</td>\n",
       "    </tr>\n",
       "    <tr>\n",
       "      <th>149</th>\n",
       "      <td>Tripod plates dont fit on all tripods and cameras</td>\n",
       "      <td>HECTOR COLES</td>\n",
       "      <td>Copyright  2018 Draft.Fish, Inc. All Rights Re...</td>\n",
       "      <td></td>\n",
       "      <td>2017-11-08</td>\n",
       "    </tr>\n",
       "    <tr>\n",
       "      <th>150</th>\n",
       "      <td>A way to GTFO from a restaurant instead of wai...</td>\n",
       "      <td>ANEESH ASHUTOSH</td>\n",
       "      <td>Copyright  2018 Draft.Fish, Inc. All Rights Re...</td>\n",
       "      <td>NOV 8</td>\n",
       "      <td>2017-11-08</td>\n",
       "    </tr>\n",
       "    <tr>\n",
       "      <th>151</th>\n",
       "      <td>A way to find recipes for items in your fridge...</td>\n",
       "      <td>HECTOR COLES</td>\n",
       "      <td>An app where you input the food in your fridge...</td>\n",
       "      <td>NOV 3</td>\n",
       "      <td>2017-11-03</td>\n",
       "    </tr>\n",
       "    <tr>\n",
       "      <th>152</th>\n",
       "      <td>Better Way to Find Classes</td>\n",
       "      <td>RISHI NARAIN</td>\n",
       "      <td>Problem: NYU needs a better way for their stud...</td>\n",
       "      <td>OCT 31</td>\n",
       "      <td>2017-10-31</td>\n",
       "    </tr>\n",
       "    <tr>\n",
       "      <th>153</th>\n",
       "      <td>Sleeping in Dorms</td>\n",
       "      <td>RISHI NARAIN</td>\n",
       "      <td>Problem: How can we create a quiet sleeping en...</td>\n",
       "      <td>OCT 25</td>\n",
       "      <td>2017-10-25</td>\n",
       "    </tr>\n",
       "    <tr>\n",
       "      <th>154</th>\n",
       "      <td>A Bath Mat that Doesn’t Get Soggy</td>\n",
       "      <td>RISHI NARAIN</td>\n",
       "      <td>Problem: The bath mat in our shower gets super...</td>\n",
       "      <td>OCT 20</td>\n",
       "      <td>2017-10-20</td>\n",
       "    </tr>\n",
       "    <tr>\n",
       "      <th>155</th>\n",
       "      <td>Too Many Emails NYU</td>\n",
       "      <td>RISHI NARAIN</td>\n",
       "      <td>Problem: Wtf NYU sends waaaaay too many emails...</td>\n",
       "      <td>OCT 19</td>\n",
       "      <td>2017-10-19</td>\n",
       "    </tr>\n",
       "    <tr>\n",
       "      <th>156</th>\n",
       "      <td>Drunk Texting</td>\n",
       "      <td>RISHI NARAIN</td>\n",
       "      <td>Problem: I need a way to stop myself from Drun...</td>\n",
       "      <td>OCT 15</td>\n",
       "      <td>2017-10-15</td>\n",
       "    </tr>\n",
       "    <tr>\n",
       "      <th>157</th>\n",
       "      <td>Crowdsourced DJ App</td>\n",
       "      <td>RISHI NARAIN</td>\n",
       "      <td>Problem: People fucking around with the Aux co...</td>\n",
       "      <td>OCT 15</td>\n",
       "      <td>2017-10-15</td>\n",
       "    </tr>\n",
       "    <tr>\n",
       "      <th>158</th>\n",
       "      <td>Actually Good Looking NYU Apparel</td>\n",
       "      <td>RISHI NARAIN</td>\n",
       "      <td>Problem: NYU’s apparel is really fucking ugly</td>\n",
       "      <td>OCT 14</td>\n",
       "      <td>2017-10-14</td>\n",
       "    </tr>\n",
       "    <tr>\n",
       "      <th>159</th>\n",
       "      <td>Dishes</td>\n",
       "      <td>RISHI NARAIN</td>\n",
       "      <td>Problem: I use a lot of disposable dishes, and...</td>\n",
       "      <td></td>\n",
       "      <td>2017-10-13</td>\n",
       "    </tr>\n",
       "    <tr>\n",
       "      <th>160</th>\n",
       "      <td>Smoothie Packs</td>\n",
       "      <td>RISHI NARAIN</td>\n",
       "      <td>Problem: I hate having to buy all of the shit ...</td>\n",
       "      <td>OCT 1</td>\n",
       "      <td>2017-10-01</td>\n",
       "    </tr>\n",
       "    <tr>\n",
       "      <th>161</th>\n",
       "      <td>ADHD Website</td>\n",
       "      <td>RISHI NARAIN</td>\n",
       "      <td>Problem: I can never find the proper resources...</td>\n",
       "      <td>SEP 25</td>\n",
       "      <td>2017-09-25</td>\n",
       "    </tr>\n",
       "    <tr>\n",
       "      <th>162</th>\n",
       "      <td>A Good Bed for Bed Forum</td>\n",
       "      <td>RISHI NARAIN</td>\n",
       "      <td>Instead of posting what you have. A B4B forum ...</td>\n",
       "      <td>AUG 3</td>\n",
       "      <td>2017-08-03</td>\n",
       "    </tr>\n",
       "    <tr>\n",
       "      <th>163</th>\n",
       "      <td>Quinoa Bowl Kit</td>\n",
       "      <td>RISHI NARAIN</td>\n",
       "      <td>Problem:  It takes me forever to make nutritio...</td>\n",
       "      <td>JUL 4</td>\n",
       "      <td>2017-07-04</td>\n",
       "    </tr>\n",
       "    <tr>\n",
       "      <th>164</th>\n",
       "      <td>Unspillable Cup Holder</td>\n",
       "      <td>RISHI NARAIN</td>\n",
       "      <td>Problem: Coffee spills in the car, because it ...</td>\n",
       "      <td>JUL 4</td>\n",
       "      <td>2017-07-04</td>\n",
       "    </tr>\n",
       "    <tr>\n",
       "      <th>165</th>\n",
       "      <td>Startup Team Building Site</td>\n",
       "      <td>RISHI NARAIN</td>\n",
       "      <td>Copyright  2018 Draft.Fish, Inc. All Rights Re...</td>\n",
       "      <td>JUN 26</td>\n",
       "      <td>2017-06-26</td>\n",
       "    </tr>\n",
       "    <tr>\n",
       "      <th>166</th>\n",
       "      <td>Mini Universal Camera</td>\n",
       "      <td>RISHI NARAIN</td>\n",
       "      <td>Inspired by the Polaroid cube camera, I want t...</td>\n",
       "      <td>JUN 26</td>\n",
       "      <td>2017-06-26</td>\n",
       "    </tr>\n",
       "    <tr>\n",
       "      <th>167</th>\n",
       "      <td>Collaborative Video Editing App</td>\n",
       "      <td>RISHI NARAIN</td>\n",
       "      <td>This is like a google docs/google drive for vi...</td>\n",
       "      <td>JUN 26</td>\n",
       "      <td>2017-06-26</td>\n",
       "    </tr>\n",
       "    <tr>\n",
       "      <th>168</th>\n",
       "      <td>Probiotic Travel Website</td>\n",
       "      <td>RISHI NARAIN</td>\n",
       "      <td>A website that sends you probiotics based on w...</td>\n",
       "      <td>JUN 26</td>\n",
       "      <td>2017-06-26</td>\n",
       "    </tr>\n",
       "    <tr>\n",
       "      <th>169</th>\n",
       "      <td>How to Clean Website</td>\n",
       "      <td>RISHI NARAIN</td>\n",
       "      <td>A website that tells you how to clean anything...</td>\n",
       "      <td>JUN 26</td>\n",
       "      <td>2017-06-26</td>\n",
       "    </tr>\n",
       "    <tr>\n",
       "      <th>170</th>\n",
       "      <td>Suitcase that actually helps you be organized</td>\n",
       "      <td>RISHI NARAIN</td>\n",
       "      <td>The suitcase with either build in dividers. Or...</td>\n",
       "      <td>JUN 26</td>\n",
       "      <td>2017-06-26</td>\n",
       "    </tr>\n",
       "    <tr>\n",
       "      <th>171</th>\n",
       "      <td>Calendar App - Based off of Cal Newport Book</td>\n",
       "      <td>RISHI NARAIN</td>\n",
       "      <td>Problem: There’s not an efficient way for me t...</td>\n",
       "      <td>JUN 26</td>\n",
       "      <td>2017-06-26</td>\n",
       "    </tr>\n",
       "    <tr>\n",
       "      <th>172</th>\n",
       "      <td>Lens Cap with Microfiber Cleaner</td>\n",
       "      <td>RISHI NARAIN</td>\n",
       "      <td>Initial Problem:  Camera lenses get dirty all ...</td>\n",
       "      <td>JUN 26</td>\n",
       "      <td>2017-06-26</td>\n",
       "    </tr>\n",
       "    <tr>\n",
       "      <th>173</th>\n",
       "      <td>Frisbee with Removable Bottom Ring</td>\n",
       "      <td>RISHI NARAIN</td>\n",
       "      <td>Basically a frisbee with a removable ring on t...</td>\n",
       "      <td>JUN 26</td>\n",
       "      <td>2017-06-26</td>\n",
       "    </tr>\n",
       "    <tr>\n",
       "      <th>174</th>\n",
       "      <td>P2P Commerce - Device Resale</td>\n",
       "      <td>RISHI NARAIN</td>\n",
       "      <td>Filler</td>\n",
       "      <td>JUN 26</td>\n",
       "      <td>2017-06-26</td>\n",
       "    </tr>\n",
       "  </tbody>\n",
       "</table>\n",
       "<p>175 rows × 5 columns</p>\n",
       "</div>"
      ],
      "text/plain": [
       "                                                  idea           author  \\\n",
       "0                                 Block chain for Cars     RISHI NARAIN   \n",
       "1                              The double sided hanger  MATTHEW MOULTON   \n",
       "2    Suction based water bottle which doesn't creat...     HECTOR COLES   \n",
       "3                                          Water taxis     HECTOR COLES   \n",
       "4                                        Drink driving     HECTOR COLES   \n",
       "5                                      The USB locator  MATTHEW MOULTON   \n",
       "6                          The YouTube music algorithm  MICHELLE LORDUY   \n",
       "7                                           Food waste  MICHELLE LORDUY   \n",
       "8                                         instant rest  MICHELLE LORDUY   \n",
       "9                                                 nyse  MICHELLE LORDUY   \n",
       "10                                         Replenisher  MICHELLE LORDUY   \n",
       "11                                          Runway DJs  MICHELLE LORDUY   \n",
       "12                                             Ear wax     HECTOR COLES   \n",
       "13                              Empty subway carriages     HECTOR COLES   \n",
       "14                                          Back pains     HECTOR COLES   \n",
       "15                                         Dish drying     HECTOR COLES   \n",
       "16                                    Shazam for films     HECTOR COLES   \n",
       "17                                   The pun generator  MATTHEW MOULTON   \n",
       "18                                    Music transposer  MATTHEW MOULTON   \n",
       "19                                         Neck warmer  MATTHEW MOULTON   \n",
       "20                           Universal Course Reviewer      SHENGJIE JI   \n",
       "21                            touch sensitive keyboard      SHENGJIE JI   \n",
       "22                          the UN is weak, we need UH  MICHELLE LORDUY   \n",
       "23                             Waterproof park benches  MICHELLE LORDUY   \n",
       "24                                         Foot Warmer      SHENGJIE JI   \n",
       "25                                         Virtual Job      SHENGJIE JI   \n",
       "26                                Life Hack Compendium      SHENGJIE JI   \n",
       "27                                     First Job Coach      SHENGJIE JI   \n",
       "28                                            Gym Form     RISHI NARAIN   \n",
       "29                            Messenger Conglomeration      SHENGJIE JI   \n",
       "..                                                 ...              ...   \n",
       "145                                       Free buffets     RISHI NARAIN   \n",
       "146                                 LONG SPAGHETTI POT  MICHELLE LORDUY   \n",
       "147                           Adhesive Color Aid Tiles  MICHELLE LORDUY   \n",
       "148                   A Basketball that never deflates  MATTHEW MOULTON   \n",
       "149  Tripod plates dont fit on all tripods and cameras     HECTOR COLES   \n",
       "150  A way to GTFO from a restaurant instead of wai...  ANEESH ASHUTOSH   \n",
       "151  A way to find recipes for items in your fridge...     HECTOR COLES   \n",
       "152                         Better Way to Find Classes     RISHI NARAIN   \n",
       "153                                  Sleeping in Dorms     RISHI NARAIN   \n",
       "154                  A Bath Mat that Doesn’t Get Soggy     RISHI NARAIN   \n",
       "155                                Too Many Emails NYU     RISHI NARAIN   \n",
       "156                                      Drunk Texting     RISHI NARAIN   \n",
       "157                                Crowdsourced DJ App     RISHI NARAIN   \n",
       "158                  Actually Good Looking NYU Apparel     RISHI NARAIN   \n",
       "159                                             Dishes     RISHI NARAIN   \n",
       "160                                     Smoothie Packs     RISHI NARAIN   \n",
       "161                                       ADHD Website     RISHI NARAIN   \n",
       "162                           A Good Bed for Bed Forum     RISHI NARAIN   \n",
       "163                                    Quinoa Bowl Kit     RISHI NARAIN   \n",
       "164                             Unspillable Cup Holder     RISHI NARAIN   \n",
       "165                         Startup Team Building Site     RISHI NARAIN   \n",
       "166                              Mini Universal Camera     RISHI NARAIN   \n",
       "167                    Collaborative Video Editing App     RISHI NARAIN   \n",
       "168                           Probiotic Travel Website     RISHI NARAIN   \n",
       "169                               How to Clean Website     RISHI NARAIN   \n",
       "170      Suitcase that actually helps you be organized     RISHI NARAIN   \n",
       "171       Calendar App - Based off of Cal Newport Book     RISHI NARAIN   \n",
       "172                   Lens Cap with Microfiber Cleaner     RISHI NARAIN   \n",
       "173                 Frisbee with Removable Bottom Ring     RISHI NARAIN   \n",
       "174                       P2P Commerce - Device Resale     RISHI NARAIN   \n",
       "\n",
       "                                           description pubdate    datetime  \n",
       "0    idea: a ledger that details car repairs, accid...  JAN 25  2018-01-25  \n",
       "1    A hanger with two hooks. One on the left and a...  JAN 24  2018-01-24  \n",
       "2    Copyright  2018 Draft.Fish, Inc. All Rights Re...  JAN 22  2018-01-22  \n",
       "3    A way to skip the traffic on the bridges into ...  JAN 22  2018-01-22  \n",
       "4    Man on a bicycle comes to your bar/friends hou...  JAN 22  2018-01-22  \n",
       "5    An app on your phone that you can use to locat...  JAN 22  2018-01-22  \n",
       "6    listening to music on YouTube is , in my opini...  JAN 22  2018-01-22  \n",
       "7    a service that collects that day-old. food fro...  JAN 21  2018-01-21  \n",
       "8    a way to get a full rested night of sleep with...  JAN 21  2018-01-21  \n",
       "9    Not Your Semester E (idk what the E may stand ...  JAN 21  2018-01-21  \n",
       "10   Testing out a way to replenish tired muscles, ...  JAN 21  2018-01-21  \n",
       "11   Problem: runway shows on YouTube don’t tell yo...  JAN 21  2018-01-21  \n",
       "12         A simple solution to getting rid of ear wax  JAN 20  2018-01-20  \n",
       "13   App which tells you how full each subway carri...  JAN 20  2018-01-20  \n",
       "14                    Self applied back pain solution   JAN 20  2018-01-20  \n",
       "15   More efficient way to get dishes and cups than...  JAN 20  2018-01-20  \n",
       "16   Record the film/TV show on the app and it tell...  JAN 20  2018-01-20  \n",
       "17   An app that gives the user a random pun to tel...  JAN 19  2018-01-19  \n",
       "18   It takes a piece of music and shifts it to any...  JAN 19  2018-01-19  \n",
       "19   A cloth sleeve to wear on your neck that heats...  JAN 18  2018-01-18  \n",
       "20   A way to directly compare courses from courser...          2018-01-18  \n",
       "21         keyboards less prone to water/food damage.   JAN 18  2018-01-18  \n",
       "22   humanity needs to be the standard of measuring...  JAN 17  2018-01-17  \n",
       "23   park benches that are waterproof or dry quickl...          2018-01-17  \n",
       "24                       hand warmer sized for shoes.   JAN 17  2018-01-17  \n",
       "25   Practice for a job through an online experienc...  JAN 17  2018-01-17  \n",
       "26   What are some things you can do to get \"the mo...  JAN 17  2018-01-17  \n",
       "27   Getting the first job is the hardest, it would...          2018-01-16  \n",
       "28   Problem: There needs to be a way that ensures ...  JAN 16  2018-01-16  \n",
       "29   Instead of checking 5 apps for messages, check...  JAN 16  2018-01-16  \n",
       "..                                                 ...     ...         ...  \n",
       "145  App that tells you about events with free food...   NOV 9  2017-11-09  \n",
       "146  ****a pot designed specifically for spaghetti.***   NOV 9  2017-11-09  \n",
       "147  color-aid, but with velcro or some sort of adh...   NOV 9  2017-11-09  \n",
       "148  Problem: My basketball deflates when exposed t...   NOV 9  2017-11-09  \n",
       "149  Copyright  2018 Draft.Fish, Inc. All Rights Re...          2017-11-08  \n",
       "150  Copyright  2018 Draft.Fish, Inc. All Rights Re...   NOV 8  2017-11-08  \n",
       "151  An app where you input the food in your fridge...   NOV 3  2017-11-03  \n",
       "152  Problem: NYU needs a better way for their stud...  OCT 31  2017-10-31  \n",
       "153  Problem: How can we create a quiet sleeping en...  OCT 25  2017-10-25  \n",
       "154  Problem: The bath mat in our shower gets super...  OCT 20  2017-10-20  \n",
       "155  Problem: Wtf NYU sends waaaaay too many emails...  OCT 19  2017-10-19  \n",
       "156  Problem: I need a way to stop myself from Drun...  OCT 15  2017-10-15  \n",
       "157  Problem: People fucking around with the Aux co...  OCT 15  2017-10-15  \n",
       "158      Problem: NYU’s apparel is really fucking ugly  OCT 14  2017-10-14  \n",
       "159  Problem: I use a lot of disposable dishes, and...          2017-10-13  \n",
       "160  Problem: I hate having to buy all of the shit ...   OCT 1  2017-10-01  \n",
       "161  Problem: I can never find the proper resources...  SEP 25  2017-09-25  \n",
       "162  Instead of posting what you have. A B4B forum ...   AUG 3  2017-08-03  \n",
       "163  Problem:  It takes me forever to make nutritio...   JUL 4  2017-07-04  \n",
       "164  Problem: Coffee spills in the car, because it ...   JUL 4  2017-07-04  \n",
       "165  Copyright  2018 Draft.Fish, Inc. All Rights Re...  JUN 26  2017-06-26  \n",
       "166  Inspired by the Polaroid cube camera, I want t...  JUN 26  2017-06-26  \n",
       "167  This is like a google docs/google drive for vi...  JUN 26  2017-06-26  \n",
       "168  A website that sends you probiotics based on w...  JUN 26  2017-06-26  \n",
       "169  A website that tells you how to clean anything...  JUN 26  2017-06-26  \n",
       "170  The suitcase with either build in dividers. Or...  JUN 26  2017-06-26  \n",
       "171  Problem: There’s not an efficient way for me t...  JUN 26  2017-06-26  \n",
       "172  Initial Problem:  Camera lenses get dirty all ...  JUN 26  2017-06-26  \n",
       "173  Basically a frisbee with a removable ring on t...  JUN 26  2017-06-26  \n",
       "174                                             Filler  JUN 26  2017-06-26  \n",
       "\n",
       "[175 rows x 5 columns]"
      ]
     },
     "execution_count": 107,
     "metadata": {},
     "output_type": "execute_result"
    }
   ],
   "source": [
    "df"
   ]
  },
  {
   "cell_type": "code",
   "execution_count": 109,
   "metadata": {},
   "outputs": [
    {
     "data": {
      "text/plain": [
       "RISHI NARAIN       54\n",
       "MICHELLE LORDUY    30\n",
       "SHENGJIE JI        30\n",
       "MATTHEW MOULTON    30\n",
       "HECTOR COLES       30\n",
       "ANEESH ASHUTOSH     1\n",
       "Name: author, dtype: int64"
      ]
     },
     "execution_count": 109,
     "metadata": {},
     "output_type": "execute_result"
    }
   ],
   "source": [
    "df['author'].value_counts()"
   ]
  },
  {
   "cell_type": "code",
   "execution_count": 113,
   "metadata": {},
   "outputs": [
    {
     "data": {
      "text/html": [
       "<div>\n",
       "<style scoped>\n",
       "    .dataframe tbody tr th:only-of-type {\n",
       "        vertical-align: middle;\n",
       "    }\n",
       "\n",
       "    .dataframe tbody tr th {\n",
       "        vertical-align: top;\n",
       "    }\n",
       "\n",
       "    .dataframe thead tr th {\n",
       "        text-align: left;\n",
       "    }\n",
       "\n",
       "    .dataframe thead tr:last-of-type th {\n",
       "        text-align: right;\n",
       "    }\n",
       "</style>\n",
       "<table border=\"1\" class=\"dataframe\">\n",
       "  <thead>\n",
       "    <tr>\n",
       "      <th></th>\n",
       "      <th colspan=\"4\" halign=\"left\">datetime</th>\n",
       "      <th colspan=\"4\" halign=\"left\">description</th>\n",
       "      <th colspan=\"4\" halign=\"left\">idea</th>\n",
       "      <th colspan=\"4\" halign=\"left\">pubdate</th>\n",
       "    </tr>\n",
       "    <tr>\n",
       "      <th></th>\n",
       "      <th>count</th>\n",
       "      <th>unique</th>\n",
       "      <th>top</th>\n",
       "      <th>freq</th>\n",
       "      <th>count</th>\n",
       "      <th>unique</th>\n",
       "      <th>top</th>\n",
       "      <th>freq</th>\n",
       "      <th>count</th>\n",
       "      <th>unique</th>\n",
       "      <th>top</th>\n",
       "      <th>freq</th>\n",
       "      <th>count</th>\n",
       "      <th>unique</th>\n",
       "      <th>top</th>\n",
       "      <th>freq</th>\n",
       "    </tr>\n",
       "    <tr>\n",
       "      <th>author</th>\n",
       "      <th></th>\n",
       "      <th></th>\n",
       "      <th></th>\n",
       "      <th></th>\n",
       "      <th></th>\n",
       "      <th></th>\n",
       "      <th></th>\n",
       "      <th></th>\n",
       "      <th></th>\n",
       "      <th></th>\n",
       "      <th></th>\n",
       "      <th></th>\n",
       "      <th></th>\n",
       "      <th></th>\n",
       "      <th></th>\n",
       "      <th></th>\n",
       "    </tr>\n",
       "  </thead>\n",
       "  <tbody>\n",
       "    <tr>\n",
       "      <th>ANEESH ASHUTOSH</th>\n",
       "      <td>1</td>\n",
       "      <td>1</td>\n",
       "      <td>2017-11-08</td>\n",
       "      <td>1</td>\n",
       "      <td>1</td>\n",
       "      <td>1</td>\n",
       "      <td>Copyright  2018 Draft.Fish, Inc. All Rights Re...</td>\n",
       "      <td>1</td>\n",
       "      <td>1</td>\n",
       "      <td>1</td>\n",
       "      <td>A way to GTFO from a restaurant instead of wai...</td>\n",
       "      <td>1</td>\n",
       "      <td>1</td>\n",
       "      <td>1</td>\n",
       "      <td>NOV 8</td>\n",
       "      <td>1</td>\n",
       "    </tr>\n",
       "    <tr>\n",
       "      <th>HECTOR COLES</th>\n",
       "      <td>30</td>\n",
       "      <td>12</td>\n",
       "      <td>2018-01-20</td>\n",
       "      <td>5</td>\n",
       "      <td>30</td>\n",
       "      <td>29</td>\n",
       "      <td>Copyright  2018 Draft.Fish, Inc. All Rights Re...</td>\n",
       "      <td>2</td>\n",
       "      <td>30</td>\n",
       "      <td>30</td>\n",
       "      <td>Tripod plates dont fit on all tripods and cameras</td>\n",
       "      <td>1</td>\n",
       "      <td>30</td>\n",
       "      <td>12</td>\n",
       "      <td>JAN 20</td>\n",
       "      <td>5</td>\n",
       "    </tr>\n",
       "    <tr>\n",
       "      <th>MATTHEW MOULTON</th>\n",
       "      <td>30</td>\n",
       "      <td>20</td>\n",
       "      <td>2018-01-11</td>\n",
       "      <td>4</td>\n",
       "      <td>30</td>\n",
       "      <td>30</td>\n",
       "      <td>Problem: Paper gets soggy and rips easily when...</td>\n",
       "      <td>1</td>\n",
       "      <td>30</td>\n",
       "      <td>30</td>\n",
       "      <td>Irrustible Steel</td>\n",
       "      <td>1</td>\n",
       "      <td>30</td>\n",
       "      <td>20</td>\n",
       "      <td>JAN 11</td>\n",
       "      <td>4</td>\n",
       "    </tr>\n",
       "    <tr>\n",
       "      <th>MICHELLE LORDUY</th>\n",
       "      <td>30</td>\n",
       "      <td>13</td>\n",
       "      <td>2018-01-21</td>\n",
       "      <td>5</td>\n",
       "      <td>30</td>\n",
       "      <td>30</td>\n",
       "      <td>Ever since Rishi shared a video on Facebook de...</td>\n",
       "      <td>1</td>\n",
       "      <td>30</td>\n",
       "      <td>30</td>\n",
       "      <td>Reuse rain water</td>\n",
       "      <td>1</td>\n",
       "      <td>30</td>\n",
       "      <td>13</td>\n",
       "      <td>JAN 21</td>\n",
       "      <td>5</td>\n",
       "    </tr>\n",
       "    <tr>\n",
       "      <th>RISHI NARAIN</th>\n",
       "      <td>54</td>\n",
       "      <td>29</td>\n",
       "      <td>2017-06-26</td>\n",
       "      <td>10</td>\n",
       "      <td>54</td>\n",
       "      <td>54</td>\n",
       "      <td>Problem: A way to reply to people's messages u...</td>\n",
       "      <td>1</td>\n",
       "      <td>54</td>\n",
       "      <td>54</td>\n",
       "      <td>Help Old People with Tech</td>\n",
       "      <td>1</td>\n",
       "      <td>54</td>\n",
       "      <td>28</td>\n",
       "      <td>JUN 26</td>\n",
       "      <td>10</td>\n",
       "    </tr>\n",
       "    <tr>\n",
       "      <th>SHENGJIE JI</th>\n",
       "      <td>30</td>\n",
       "      <td>8</td>\n",
       "      <td>2018-01-13</td>\n",
       "      <td>7</td>\n",
       "      <td>30</td>\n",
       "      <td>30</td>\n",
       "      <td>Charities are sometimes cash scams. I know of ...</td>\n",
       "      <td>1</td>\n",
       "      <td>30</td>\n",
       "      <td>30</td>\n",
       "      <td>Ranking of Job Difficulty</td>\n",
       "      <td>1</td>\n",
       "      <td>30</td>\n",
       "      <td>9</td>\n",
       "      <td></td>\n",
       "      <td>7</td>\n",
       "    </tr>\n",
       "  </tbody>\n",
       "</table>\n",
       "</div>"
      ],
      "text/plain": [
       "                datetime                         description         \\\n",
       "                   count unique         top freq       count unique   \n",
       "author                                                                \n",
       "ANEESH ASHUTOSH        1      1  2017-11-08    1           1      1   \n",
       "HECTOR COLES          30     12  2018-01-20    5          30     29   \n",
       "MATTHEW MOULTON       30     20  2018-01-11    4          30     30   \n",
       "MICHELLE LORDUY       30     13  2018-01-21    5          30     30   \n",
       "RISHI NARAIN          54     29  2017-06-26   10          54     54   \n",
       "SHENGJIE JI           30      8  2018-01-13    7          30     30   \n",
       "\n",
       "                                                                         idea  \\\n",
       "                                                               top freq count   \n",
       "author                                                                          \n",
       "ANEESH ASHUTOSH  Copyright  2018 Draft.Fish, Inc. All Rights Re...    1     1   \n",
       "HECTOR COLES     Copyright  2018 Draft.Fish, Inc. All Rights Re...    2    30   \n",
       "MATTHEW MOULTON  Problem: Paper gets soggy and rips easily when...    1    30   \n",
       "MICHELLE LORDUY  Ever since Rishi shared a video on Facebook de...    1    30   \n",
       "RISHI NARAIN     Problem: A way to reply to people's messages u...    1    54   \n",
       "SHENGJIE JI      Charities are sometimes cash scams. I know of ...    1    30   \n",
       "\n",
       "                                                                           \\\n",
       "                unique                                                top   \n",
       "author                                                                      \n",
       "ANEESH ASHUTOSH      1  A way to GTFO from a restaurant instead of wai...   \n",
       "HECTOR COLES        30  Tripod plates dont fit on all tripods and cameras   \n",
       "MATTHEW MOULTON     30                                   Irrustible Steel   \n",
       "MICHELLE LORDUY     30                                   Reuse rain water   \n",
       "RISHI NARAIN        54                          Help Old People with Tech   \n",
       "SHENGJIE JI         30                          Ranking of Job Difficulty   \n",
       "\n",
       "                     pubdate                      \n",
       "                freq   count unique     top freq  \n",
       "author                                            \n",
       "ANEESH ASHUTOSH    1       1      1   NOV 8    1  \n",
       "HECTOR COLES       1      30     12  JAN 20    5  \n",
       "MATTHEW MOULTON    1      30     20  JAN 11    4  \n",
       "MICHELLE LORDUY    1      30     13  JAN 21    5  \n",
       "RISHI NARAIN       1      54     28  JUN 26   10  \n",
       "SHENGJIE JI        1      30      9            7  "
      ]
     },
     "execution_count": 113,
     "metadata": {},
     "output_type": "execute_result"
    }
   ],
   "source": [
    "df.groupby('author').describe()"
   ]
  },
  {
   "cell_type": "code",
   "execution_count": 114,
   "metadata": {},
   "outputs": [],
   "source": [
    "df['desc_len'] = df['description'].apply(len)"
   ]
  },
  {
   "cell_type": "code",
   "execution_count": 116,
   "metadata": {},
   "outputs": [],
   "source": [
    "df['title_len'] = df['idea'].apply(len)"
   ]
  },
  {
   "cell_type": "code",
   "execution_count": 117,
   "metadata": {},
   "outputs": [
    {
     "data": {
      "text/html": [
       "<div>\n",
       "<style scoped>\n",
       "    .dataframe tbody tr th:only-of-type {\n",
       "        vertical-align: middle;\n",
       "    }\n",
       "\n",
       "    .dataframe tbody tr th {\n",
       "        vertical-align: top;\n",
       "    }\n",
       "\n",
       "    .dataframe thead th {\n",
       "        text-align: right;\n",
       "    }\n",
       "</style>\n",
       "<table border=\"1\" class=\"dataframe\">\n",
       "  <thead>\n",
       "    <tr style=\"text-align: right;\">\n",
       "      <th></th>\n",
       "      <th>idea</th>\n",
       "      <th>author</th>\n",
       "      <th>description</th>\n",
       "      <th>pubdate</th>\n",
       "      <th>datetime</th>\n",
       "      <th>desc_len</th>\n",
       "      <th>title_len</th>\n",
       "    </tr>\n",
       "  </thead>\n",
       "  <tbody>\n",
       "    <tr>\n",
       "      <th>0</th>\n",
       "      <td>Block chain for Cars</td>\n",
       "      <td>RISHI NARAIN</td>\n",
       "      <td>idea: a ledger that details car repairs, accid...</td>\n",
       "      <td>JAN 25</td>\n",
       "      <td>2018-01-25</td>\n",
       "      <td>57</td>\n",
       "      <td>20</td>\n",
       "    </tr>\n",
       "    <tr>\n",
       "      <th>1</th>\n",
       "      <td>The double sided hanger</td>\n",
       "      <td>MATTHEW MOULTON</td>\n",
       "      <td>A hanger with two hooks. One on the left and a...</td>\n",
       "      <td>JAN 24</td>\n",
       "      <td>2018-01-24</td>\n",
       "      <td>67</td>\n",
       "      <td>23</td>\n",
       "    </tr>\n",
       "    <tr>\n",
       "      <th>2</th>\n",
       "      <td>Suction based water bottle which doesn't creat...</td>\n",
       "      <td>HECTOR COLES</td>\n",
       "      <td>Copyright  2018 Draft.Fish, Inc. All Rights Re...</td>\n",
       "      <td>JAN 22</td>\n",
       "      <td>2018-01-22</td>\n",
       "      <td>53</td>\n",
       "      <td>70</td>\n",
       "    </tr>\n",
       "    <tr>\n",
       "      <th>3</th>\n",
       "      <td>Water taxis</td>\n",
       "      <td>HECTOR COLES</td>\n",
       "      <td>A way to skip the traffic on the bridges into ...</td>\n",
       "      <td>JAN 22</td>\n",
       "      <td>2018-01-22</td>\n",
       "      <td>55</td>\n",
       "      <td>11</td>\n",
       "    </tr>\n",
       "    <tr>\n",
       "      <th>4</th>\n",
       "      <td>Drink driving</td>\n",
       "      <td>HECTOR COLES</td>\n",
       "      <td>Man on a bicycle comes to your bar/friends hou...</td>\n",
       "      <td>JAN 22</td>\n",
       "      <td>2018-01-22</td>\n",
       "      <td>124</td>\n",
       "      <td>13</td>\n",
       "    </tr>\n",
       "  </tbody>\n",
       "</table>\n",
       "</div>"
      ],
      "text/plain": [
       "                                                idea           author  \\\n",
       "0                               Block chain for Cars     RISHI NARAIN   \n",
       "1                            The double sided hanger  MATTHEW MOULTON   \n",
       "2  Suction based water bottle which doesn't creat...     HECTOR COLES   \n",
       "3                                        Water taxis     HECTOR COLES   \n",
       "4                                      Drink driving     HECTOR COLES   \n",
       "\n",
       "                                         description pubdate    datetime  \\\n",
       "0  idea: a ledger that details car repairs, accid...  JAN 25  2018-01-25   \n",
       "1  A hanger with two hooks. One on the left and a...  JAN 24  2018-01-24   \n",
       "2  Copyright  2018 Draft.Fish, Inc. All Rights Re...  JAN 22  2018-01-22   \n",
       "3  A way to skip the traffic on the bridges into ...  JAN 22  2018-01-22   \n",
       "4  Man on a bicycle comes to your bar/friends hou...  JAN 22  2018-01-22   \n",
       "\n",
       "   desc_len  title_len  \n",
       "0        57         20  \n",
       "1        67         23  \n",
       "2        53         70  \n",
       "3        55         11  \n",
       "4       124         13  "
      ]
     },
     "execution_count": 117,
     "metadata": {},
     "output_type": "execute_result"
    }
   ],
   "source": [
    "df.head()"
   ]
  },
  {
   "cell_type": "code",
   "execution_count": 118,
   "metadata": {},
   "outputs": [],
   "source": [
    "import matplotlib.pyplot as plt\n",
    "import seaborn as sns\n",
    "%matplotlib inline"
   ]
  },
  {
   "cell_type": "code",
   "execution_count": 123,
   "metadata": {},
   "outputs": [
    {
     "data": {
      "text/plain": [
       "<matplotlib.axes._subplots.AxesSubplot at 0x20cc30dab00>"
      ]
     },
     "execution_count": 123,
     "metadata": {},
     "output_type": "execute_result"
    },
    {
     "data": {
      "image/png": "[encoded data removed]",
      "text/plain": [
       "<Figure size 432x288 with 1 Axes>"
      ]
     },
     "metadata": {},
     "output_type": "display_data"
    }
   ],
   "source": [
    "df['desc_len'].plot.hist(bins=75)"
   ]
  },
  {
   "cell_type": "code",
   "execution_count": 125,
   "metadata": {},
   "outputs": [
    {
     "data": {
      "text/plain": [
       "count    175.000000\n",
       "mean     112.485714\n",
       "std       75.947037\n",
       "min        6.000000\n",
       "25%       59.500000\n",
       "50%       96.000000\n",
       "75%      144.500000\n",
       "max      748.000000\n",
       "Name: desc_len, dtype: float64"
      ]
     },
     "execution_count": 125,
     "metadata": {},
     "output_type": "execute_result"
    }
   ],
   "source": [
    "df['desc_len'].describe()"
   ]
  },
  {
   "cell_type": "code",
   "execution_count": 128,
   "metadata": {},
   "outputs": [
    {
     "data": {
      "text/plain": [
       "'humanity needs to be the standard of measuring people and not based upon their nationalities, the UN could do a much better job of being an organization that functions on behalf of human beings. In comes UH , United Humans, which is an independent organization that cares about the human condition. Like taking care of refugees, and people who have been displaced due to international conflicts and crisises. This might start something but this idea is based upon my observation of how much strife there is among people in nations where there’s not much of a stable government. UH could provide a sort of refuge and protection for them. Would be independently funded. This is a very utopian idea but we seriously have to protect our fellow humans. '"
      ]
     },
     "execution_count": 128,
     "metadata": {},
     "output_type": "execute_result"
    }
   ],
   "source": [
    "df[df['desc_len']==748]['description'].iloc[0]"
   ]
  },
  {
   "cell_type": "code",
   "execution_count": 130,
   "metadata": {},
   "outputs": [
    {
     "data": {
      "text/plain": [
       "array([[<matplotlib.axes._subplots.AxesSubplot object at 0x0000020CC3416518>,\n",
       "        <matplotlib.axes._subplots.AxesSubplot object at 0x0000020CC36ABA20>],\n",
       "       [<matplotlib.axes._subplots.AxesSubplot object at 0x0000020CC389DCC0>,\n",
       "        <matplotlib.axes._subplots.AxesSubplot object at 0x0000020CC38C0390>],\n",
       "       [<matplotlib.axes._subplots.AxesSubplot object at 0x0000020CC38E1AC8>,\n",
       "        <matplotlib.axes._subplots.AxesSubplot object at 0x0000020CC38E1B00>]],\n",
       "      dtype=object)"
      ]
     },
     "execution_count": 130,
     "metadata": {},
     "output_type": "execute_result"
    },
    {
     "data": {
      "image/png": "[encoded data removed]",
      "text/plain": [
       "<Figure size 1296x576 with 6 Axes>"
      ]
     },
     "metadata": {},
     "output_type": "display_data"
    }
   ],
   "source": [
    "df.hist(column='desc_len',by='author',bins=75,figsize=(18,8))"
   ]
  },
  {
   "cell_type": "code",
   "execution_count": 131,
   "metadata": {},
   "outputs": [
    {
     "data": {
      "text/plain": [
       "array([[<matplotlib.axes._subplots.AxesSubplot object at 0x0000020CC3982240>,\n",
       "        <matplotlib.axes._subplots.AxesSubplot object at 0x0000020CC40E5CC0>],\n",
       "       [<matplotlib.axes._subplots.AxesSubplot object at 0x0000020CC3DC56D8>,\n",
       "        <matplotlib.axes._subplots.AxesSubplot object at 0x0000020CC3DE3D68>],\n",
       "       [<matplotlib.axes._subplots.AxesSubplot object at 0x0000020CC3E0A438>,\n",
       "        <matplotlib.axes._subplots.AxesSubplot object at 0x0000020CC3E0A470>]],\n",
       "      dtype=object)"
      ]
     },
     "execution_count": 131,
     "metadata": {},
     "output_type": "execute_result"
    },
    {
     "data": {
      "image/png": "[encoded data removed]",
      "text/plain": [
       "<Figure size 1296x576 with 6 Axes>"
      ]
     },
     "metadata": {},
     "output_type": "display_data"
    }
   ],
   "source": [
    "df.hist(column='title_len',by='author',bins=75,figsize=(18,8))"
   ]
  },
  {
   "cell_type": "code",
   "execution_count": 132,
   "metadata": {},
   "outputs": [],
   "source": [
    "import string"
   ]
  },
  {
   "cell_type": "code",
   "execution_count": 133,
   "metadata": {},
   "outputs": [],
   "source": [
    "import nltk"
   ]
  },
  {
   "cell_type": "code",
   "execution_count": 134,
   "metadata": {},
   "outputs": [],
   "source": [
    "from nltk.corpus import stopwords"
   ]
  },
  {
   "cell_type": "code",
   "execution_count": 190,
   "metadata": {},
   "outputs": [
    {
     "data": {
      "text/html": [
       "<div>\n",
       "<style scoped>\n",
       "    .dataframe tbody tr th:only-of-type {\n",
       "        vertical-align: middle;\n",
       "    }\n",
       "\n",
       "    .dataframe tbody tr th {\n",
       "        vertical-align: top;\n",
       "    }\n",
       "\n",
       "    .dataframe thead th {\n",
       "        text-align: right;\n",
       "    }\n",
       "</style>\n",
       "<table border=\"1\" class=\"dataframe\">\n",
       "  <thead>\n",
       "    <tr style=\"text-align: right;\">\n",
       "      <th></th>\n",
       "      <th>idea</th>\n",
       "      <th>author</th>\n",
       "      <th>description</th>\n",
       "      <th>pubdate</th>\n",
       "      <th>datetime</th>\n",
       "      <th>desc_len</th>\n",
       "      <th>title_len</th>\n",
       "      <th>rishi</th>\n",
       "    </tr>\n",
       "  </thead>\n",
       "  <tbody>\n",
       "    <tr>\n",
       "      <th>0</th>\n",
       "      <td>Block chain for Cars</td>\n",
       "      <td>RISHI NARAIN</td>\n",
       "      <td>idea: a ledger that details car repairs, accid...</td>\n",
       "      <td>JAN 25</td>\n",
       "      <td>2018-01-25</td>\n",
       "      <td>57</td>\n",
       "      <td>20</td>\n",
       "      <td>RISHI NARAIN</td>\n",
       "    </tr>\n",
       "    <tr>\n",
       "      <th>1</th>\n",
       "      <td>The double sided hanger</td>\n",
       "      <td>MATTHEW MOULTON</td>\n",
       "      <td>A hanger with two hooks. One on the left and a...</td>\n",
       "      <td>JAN 24</td>\n",
       "      <td>2018-01-24</td>\n",
       "      <td>67</td>\n",
       "      <td>23</td>\n",
       "      <td>NOT RISHI</td>\n",
       "    </tr>\n",
       "    <tr>\n",
       "      <th>2</th>\n",
       "      <td>Suction based water bottle which doesn't creat...</td>\n",
       "      <td>HECTOR COLES</td>\n",
       "      <td>no description</td>\n",
       "      <td>JAN 22</td>\n",
       "      <td>2018-01-22</td>\n",
       "      <td>53</td>\n",
       "      <td>70</td>\n",
       "      <td>NOT RISHI</td>\n",
       "    </tr>\n",
       "    <tr>\n",
       "      <th>3</th>\n",
       "      <td>Water taxis</td>\n",
       "      <td>HECTOR COLES</td>\n",
       "      <td>A way to skip the traffic on the bridges into ...</td>\n",
       "      <td>JAN 22</td>\n",
       "      <td>2018-01-22</td>\n",
       "      <td>55</td>\n",
       "      <td>11</td>\n",
       "      <td>NOT RISHI</td>\n",
       "    </tr>\n",
       "    <tr>\n",
       "      <th>4</th>\n",
       "      <td>Drink driving</td>\n",
       "      <td>HECTOR COLES</td>\n",
       "      <td>Man on a bicycle comes to your bar/friends hou...</td>\n",
       "      <td>JAN 22</td>\n",
       "      <td>2018-01-22</td>\n",
       "      <td>124</td>\n",
       "      <td>13</td>\n",
       "      <td>NOT RISHI</td>\n",
       "    </tr>\n",
       "  </tbody>\n",
       "</table>\n",
       "</div>"
      ],
      "text/plain": [
       "                                                idea           author  \\\n",
       "0                               Block chain for Cars     RISHI NARAIN   \n",
       "1                            The double sided hanger  MATTHEW MOULTON   \n",
       "2  Suction based water bottle which doesn't creat...     HECTOR COLES   \n",
       "3                                        Water taxis     HECTOR COLES   \n",
       "4                                      Drink driving     HECTOR COLES   \n",
       "\n",
       "                                         description pubdate    datetime  \\\n",
       "0  idea: a ledger that details car repairs, accid...  JAN 25  2018-01-25   \n",
       "1  A hanger with two hooks. One on the left and a...  JAN 24  2018-01-24   \n",
       "2                                     no description  JAN 22  2018-01-22   \n",
       "3  A way to skip the traffic on the bridges into ...  JAN 22  2018-01-22   \n",
       "4  Man on a bicycle comes to your bar/friends hou...  JAN 22  2018-01-22   \n",
       "\n",
       "   desc_len  title_len         rishi  \n",
       "0        57         20  RISHI NARAIN  \n",
       "1        67         23     NOT RISHI  \n",
       "2        53         70     NOT RISHI  \n",
       "3        55         11     NOT RISHI  \n",
       "4       124         13     NOT RISHI  "
      ]
     },
     "execution_count": 190,
     "metadata": {},
     "output_type": "execute_result"
    }
   ],
   "source": [
    "df['rishi'] = df['author'][df['author']=='RISHI NARAIN']\n",
    "df['rishi'].fillna('NOT RISHI',inplace=True)\n",
    "df.head()"
   ]
  },
  {
   "cell_type": "code",
   "execution_count": null,
   "metadata": {},
   "outputs": [],
   "source": []
  },
  {
   "cell_type": "code",
   "execution_count": 139,
   "metadata": {},
   "outputs": [
    {
     "name": "stderr",
     "output_type": "stream",
     "text": [
      "C:\\Users\\Spencer\\Anaconda3\\lib\\site-packages\\ipykernel_launcher.py:1: SettingWithCopyWarning: \n",
      "A value is trying to be set on a copy of a slice from a DataFrame\n",
      "\n",
      "See the caveats in the documentation: http://pandas.pydata.org/pandas-docs/stable/indexing.html#indexing-view-versus-copy\n",
      "  \"\"\"Entry point for launching an IPython kernel.\n"
     ]
    }
   ],
   "source": [
    "df['description'][df['description']=='Copyright  2018 Draft.Fish, Inc. All Rights Reserved.'] = 'no description'"
   ]
  },
  {
   "cell_type": "code",
   "execution_count": 141,
   "metadata": {},
   "outputs": [],
   "source": [
    "def tproc(desc):\n",
    "    nopunc = [char for char in desc if char not in string.punctuation]\n",
    "    nopunc = ''.join(nopunc)\n",
    "    return[word for word in nopunc.split() if word.lower() not in stopwords.words('english')]"
   ]
  },
  {
   "cell_type": "code",
   "execution_count": 142,
   "metadata": {},
   "outputs": [
    {
     "data": {
      "text/plain": [
       "0    [idea, ledger, details, car, repairs, accident...\n",
       "1      [hanger, two, hooks, One, left, another, right]\n",
       "2                                        [description]\n",
       "3             [way, skip, traffic, bridges, manhattan]\n",
       "4    [Man, bicycle, comes, barfriends, house, puts,...\n",
       "Name: description, dtype: object"
      ]
     },
     "execution_count": 142,
     "metadata": {},
     "output_type": "execute_result"
    }
   ],
   "source": [
    "df['description'].head(5).apply(tproc)"
   ]
  },
  {
   "cell_type": "code",
   "execution_count": 143,
   "metadata": {},
   "outputs": [],
   "source": [
    "from sklearn.feature_extraction.text import CountVectorizer"
   ]
  },
  {
   "cell_type": "code",
   "execution_count": 191,
   "metadata": {},
   "outputs": [],
   "source": [
    "bow_transformer = CountVectorizer(analyzer=tproc).fit(df['description'])"
   ]
  },
  {
   "cell_type": "code",
   "execution_count": 192,
   "metadata": {},
   "outputs": [
    {
     "name": "stdout",
     "output_type": "stream",
     "text": [
      "1165\n"
     ]
    }
   ],
   "source": [
    "print(len(bow_transformer.vocabulary_))"
   ]
  },
  {
   "cell_type": "code",
   "execution_count": 193,
   "metadata": {},
   "outputs": [],
   "source": [
    "desc4 = df['description'][3]"
   ]
  },
  {
   "cell_type": "code",
   "execution_count": 194,
   "metadata": {},
   "outputs": [
    {
     "name": "stdout",
     "output_type": "stream",
     "text": [
      "A way to skip the traffic on the bridges into manhattan\n"
     ]
    }
   ],
   "source": [
    "print(desc4)"
   ]
  },
  {
   "cell_type": "code",
   "execution_count": 195,
   "metadata": {},
   "outputs": [],
   "source": [
    "bow4 = bow_transformer.transform([desc4])"
   ]
  },
  {
   "cell_type": "code",
   "execution_count": 196,
   "metadata": {},
   "outputs": [
    {
     "name": "stdout",
     "output_type": "stream",
     "text": [
      "  (0, 225)\t1\n",
      "  (0, 655)\t1\n",
      "  (0, 963)\t1\n",
      "  (0, 1076)\t1\n",
      "  (0, 1135)\t1\n"
     ]
    }
   ],
   "source": [
    "print(bow4)"
   ]
  },
  {
   "cell_type": "code",
   "execution_count": 197,
   "metadata": {},
   "outputs": [
    {
     "name": "stdout",
     "output_type": "stream",
     "text": [
      "(1, 1165)\n"
     ]
    }
   ],
   "source": [
    "print(bow4.shape)"
   ]
  },
  {
   "cell_type": "code",
   "execution_count": 198,
   "metadata": {},
   "outputs": [
    {
     "data": {
      "text/plain": [
       "'bridges'"
      ]
     },
     "execution_count": 198,
     "metadata": {},
     "output_type": "execute_result"
    }
   ],
   "source": [
    "bow_transformer.get_feature_names()[225]"
   ]
  },
  {
   "cell_type": "code",
   "execution_count": 199,
   "metadata": {},
   "outputs": [],
   "source": [
    "desc_bow = bow_transformer.transform(df['description'])"
   ]
  },
  {
   "cell_type": "code",
   "execution_count": 200,
   "metadata": {},
   "outputs": [
    {
     "name": "stdout",
     "output_type": "stream",
     "text": [
      "(175, 1165)\n"
     ]
    }
   ],
   "source": [
    "print(desc_bow.shape)"
   ]
  },
  {
   "cell_type": "code",
   "execution_count": 201,
   "metadata": {},
   "outputs": [
    {
     "data": {
      "text/plain": [
       "1818"
      ]
     },
     "execution_count": 201,
     "metadata": {},
     "output_type": "execute_result"
    }
   ],
   "source": [
    "desc_bow.nnz"
   ]
  },
  {
   "cell_type": "code",
   "execution_count": 202,
   "metadata": {},
   "outputs": [
    {
     "name": "stdout",
     "output_type": "stream",
     "text": [
      "0.8917228694052728\n"
     ]
    }
   ],
   "source": [
    "sparsity = (100.0 * desc_bow.nnz / (desc_bow.shape[0] * desc_bow.shape[1]))\n",
    "print(sparsity)"
   ]
  },
  {
   "cell_type": "code",
   "execution_count": 203,
   "metadata": {},
   "outputs": [],
   "source": [
    "from sklearn.feature_extraction.text import TfidfTransformer"
   ]
  },
  {
   "cell_type": "code",
   "execution_count": 204,
   "metadata": {},
   "outputs": [],
   "source": [
    "tfidf_transformer = TfidfTransformer().fit(desc_bow)"
   ]
  },
  {
   "cell_type": "code",
   "execution_count": 205,
   "metadata": {},
   "outputs": [],
   "source": [
    "tfidf4 = tfidf_transformer.transform(bow4)"
   ]
  },
  {
   "cell_type": "code",
   "execution_count": 206,
   "metadata": {},
   "outputs": [
    {
     "name": "stdout",
     "output_type": "stream",
     "text": [
      "  (0, 1135)\t0.2551079595868483\n",
      "  (0, 1076)\t0.4923095932460417\n",
      "  (0, 963)\t0.45586590369228747\n",
      "  (0, 655)\t0.4923095932460417\n",
      "  (0, 225)\t0.4923095932460417\n"
     ]
    }
   ],
   "source": [
    "print(tfidf4)"
   ]
  },
  {
   "cell_type": "code",
   "execution_count": 207,
   "metadata": {},
   "outputs": [
    {
     "data": {
      "text/plain": [
       "5.477336814478207"
      ]
     },
     "execution_count": 207,
     "metadata": {},
     "output_type": "execute_result"
    }
   ],
   "source": [
    "tfidf_transformer.idf_[bow_transformer.vocabulary_['bridges']]"
   ]
  },
  {
   "cell_type": "code",
   "execution_count": 208,
   "metadata": {},
   "outputs": [],
   "source": [
    "desc_tfidf = tfidf_transformer.transform(desc_bow)"
   ]
  },
  {
   "cell_type": "code",
   "execution_count": 209,
   "metadata": {},
   "outputs": [],
   "source": [
    "from sklearn.naive_bayes import MultinomialNB"
   ]
  },
  {
   "cell_type": "code",
   "execution_count": 210,
   "metadata": {},
   "outputs": [],
   "source": [
    "rishimodel = MultinomialNB().fit(desc_tfidf,df['rishi'])"
   ]
  },
  {
   "cell_type": "code",
   "execution_count": 211,
   "metadata": {},
   "outputs": [
    {
     "data": {
      "text/plain": [
       "'NOT RISHI'"
      ]
     },
     "execution_count": 211,
     "metadata": {},
     "output_type": "execute_result"
    }
   ],
   "source": [
    "rishimodel.predict(tfidf4)[0]"
   ]
  },
  {
   "cell_type": "code",
   "execution_count": 212,
   "metadata": {},
   "outputs": [
    {
     "data": {
      "text/plain": [
       "'NOT RISHI'"
      ]
     },
     "execution_count": 212,
     "metadata": {},
     "output_type": "execute_result"
    }
   ],
   "source": [
    "df['rishi'][3]"
   ]
  },
  {
   "cell_type": "code",
   "execution_count": 213,
   "metadata": {},
   "outputs": [],
   "source": [
    "all_pred = rishimodel.predict(desc_tfidf)"
   ]
  },
  {
   "cell_type": "code",
   "execution_count": 214,
   "metadata": {},
   "outputs": [],
   "source": [
    "from sklearn.model_selection import train_test_split"
   ]
  },
  {
   "cell_type": "code",
   "execution_count": 235,
   "metadata": {},
   "outputs": [],
   "source": [
    "desc_train, desc_test, rishi_train, rishi_test = train_test_split(df['description'], df['rishi'], test_size=0.3)"
   ]
  },
  {
   "cell_type": "code",
   "execution_count": 236,
   "metadata": {},
   "outputs": [],
   "source": [
    "from sklearn.pipeline import Pipeline"
   ]
  },
  {
   "cell_type": "code",
   "execution_count": 237,
   "metadata": {},
   "outputs": [],
   "source": [
    "pipeline = Pipeline([\n",
    "    ('bow', CountVectorizer(analyzer=tproc)),\n",
    "    ('tfidf', TfidfTransformer()),\n",
    "    ('classifier', MultinomialNB())\n",
    "])"
   ]
  },
  {
   "cell_type": "code",
   "execution_count": 238,
   "metadata": {},
   "outputs": [
    {
     "data": {
      "text/plain": [
       "Pipeline(memory=None,\n",
       "     steps=[('bow', CountVectorizer(analyzer=<function tproc at 0x0000020CC6C4C488>, binary=False,\n",
       "        decode_error='strict', dtype=<class 'numpy.int64'>,\n",
       "        encoding='utf-8', input='content', lowercase=True, max_df=1.0,\n",
       "        max_features=None, min_df=1, ngram_range=(1, 1), preprocessor=None,...f=False, use_idf=True)), ('classifier', MultinomialNB(alpha=1.0, class_prior=None, fit_prior=True))])"
      ]
     },
     "execution_count": 238,
     "metadata": {},
     "output_type": "execute_result"
    }
   ],
   "source": [
    "pipeline.fit(desc_train,rishi_train)"
   ]
  },
  {
   "cell_type": "code",
   "execution_count": 239,
   "metadata": {},
   "outputs": [],
   "source": [
    "predictions = pipeline.predict(desc_test)"
   ]
  },
  {
   "cell_type": "code",
   "execution_count": 240,
   "metadata": {},
   "outputs": [],
   "source": [
    "from sklearn.metrics import classification_report"
   ]
  },
  {
   "cell_type": "code",
   "execution_count": 241,
   "metadata": {},
   "outputs": [
    {
     "name": "stdout",
     "output_type": "stream",
     "text": [
      "              precision    recall  f1-score   support\n",
      "\n",
      "   NOT RISHI       0.77      1.00      0.87        37\n",
      "RISHI NARAIN       1.00      0.31      0.48        16\n",
      "\n",
      "   micro avg       0.79      0.79      0.79        53\n",
      "   macro avg       0.89      0.66      0.67        53\n",
      "weighted avg       0.84      0.79      0.75        53\n",
      "\n"
     ]
    }
   ],
   "source": [
    "print(classification_report(rishi_test,predictions))"
   ]
  },
  {
   "cell_type": "code",
   "execution_count": 253,
   "metadata": {},
   "outputs": [],
   "source": [
    "import numpy as np"
   ]
  },
  {
   "cell_type": "code",
   "execution_count": 262,
   "metadata": {},
   "outputs": [],
   "source": [
    "str = ''\n",
    "\n",
    "for n in range(len(df['idea'])):\n",
    "    str = str + df['idea'][n] +'\\n'\\"
   ]
  },
  {
   "cell_type": "code",
   "execution_count": 264,
   "metadata": {},
   "outputs": [
    {
     "name": "stdout",
     "output_type": "stream",
     "text": [
      "Block chain for Cars\n",
      "The double sided hanger\n",
      "Suction based water bottle which doesn't create a vacuum in the bottle\n",
      "Water taxis\n",
      "Drink driving\n",
      "The USB locator\n",
      "The YouTube music algorithm\n",
      "Food waste\n",
      "instant rest\n",
      "nyse\n",
      "Replenisher\n",
      "Runway DJs\n",
      "Ear wax\n",
      "Empty subway carriages\n",
      "Back pains\n",
      "Dish drying\n",
      "Shazam for films\n",
      "The pun generator\n",
      "Music transposer\n",
      "Neck warmer\n",
      "Universal Course Reviewer\n",
      "touch sensitive keyboard\n",
      "the UN is weak, we need UH\n",
      "Waterproof park benches\n",
      "Foot Warmer\n",
      "Virtual Job\n",
      "Life Hack Compendium\n",
      "First Job Coach\n",
      "Gym Form\n",
      "Messenger Conglomeration\n",
      "Ranking of Job Difficulty\n",
      "Profile Manager\n",
      "Map of Celebrity Sightings\n",
      "Shoe Friction\n",
      "The distance in the parking lot\n",
      "DVRs need to improve\n",
      "Easier to Drink Water\n",
      "An App to practice your handwriting\n",
      "Non stick aluminum foil\n",
      "Can't Figure out What to Watch on Netflix\n",
      "Personal Jesus\n",
      "Drive thru liquor store\n",
      "Urban White Noise Machine\n",
      "Stainless Mirror\n",
      "Bag which is easy to carry\n",
      "Plastic bottles\n",
      "Over eating\n",
      "Fixing split ends\n",
      "Internet Fact Curation\n",
      "Automatic heating at bus shelters\n",
      "Watch Bands are Hard to Put On\n",
      "Price Comparison\n",
      "Temporary Email\n",
      "Financial Planning for Kids\n",
      "Career Transition Assistance\n",
      "Link Verifier\n",
      "Chatting with the Enemy\n",
      "Charity Watchdog\n",
      "Cash calculator\n",
      "Super Fast Water Boiler\n",
      "The Prison Systsem is Broken\n",
      "Snow melter\n",
      "Food deserts\n",
      "Reuse rain water\n",
      "Aesthetic Moods\n",
      "Fragrance scent testers\n",
      "More Durable Boots\n",
      "The Sight Reader\n",
      "2 Minute Tutorials\n",
      "Tab Volume\n",
      "Why is Furniture from IKEA still hard to Assemble?\n",
      "Self Tuning Guitar\n",
      "Wrong temperature bath\n",
      "Tights with holes\n",
      "Photomeasurement\n",
      "Quantum storage?\n",
      "Warm bicycle handles\n",
      "Two Factor Authentication Sucks\n",
      "Fingerprints Run the World\n",
      "Spelling Things Over the Phone\n",
      "Small Pieces of Info Not Available on Internet\n",
      "How to Make GPS more Accurate\n",
      "Tech Training School for Disaffected Areas\n",
      "Mutual Fund for CryptoCurrency\n",
      "Encouraging People to Take Their Medication\n",
      "How to Get Rid of Hangovers\n",
      "Make Pills Easier to Swallow\n",
      "Pillows that give lower back support\n",
      "Comfort on Planes\n",
      "Charger tracker\n",
      "Cold hands\n",
      "Cushion feathers\n",
      "Soft block feature on instagram\n",
      "Environmentally conscious beauty product app\n",
      "Snapchat Needs a Redesign\n",
      "Temporary Hostel\n",
      "Organic Pet Food\n",
      "In/Out Network Database\n",
      "Predictive Health\n",
      "Cryptocurrency Realtime Tracker\n",
      "Find a Friend\n",
      "Better cuticle maintenance tools\n",
      "Car dealerships\n",
      "cleaner for microfiber cleaning cloths\n",
      "Salty snowboots\n",
      "Book swapping for students\n",
      "Dog walking app\n",
      "Automatic dog food\n",
      "Better Lotion\n",
      "In shower shampoo dispenser\n",
      "Portable moist wipe machine\n",
      "iphone stand for toilet\n",
      "Duvet pins\n",
      "The glove scrubber\n",
      "better gloves\n",
      "better ways to light candles\n",
      "The smooth shirt\n",
      "Super Versatile Jacket\n",
      "Make Boogie Boarding/Surfing more comfortable\n",
      "Tennis serving machine\n",
      "Waterproof Paper\n",
      "Bartending agency\n",
      "Halal finder\n",
      "Bug food\n",
      "Irrustible Steel\n",
      "How to get people to go to the Gym\n",
      "iPhone Nighstand\n",
      "The Thermo Jacket\n",
      "Make Bloodtests/Shots/IV’s less painful\n",
      "A Quick Way to Clean Email\n",
      "Object Detector App\n",
      "Messages App that Replies with Sound\n",
      "Rank Problems by # People who Have Them\n",
      "Sweeping Up Crumbs\n",
      "Zipper Bedsheets\n",
      "Comprehensive Health Care\n",
      "The Moist Microwave\n",
      "An App That Tells You When to Sleep\n",
      "Your Belt Will Always Look Brand New\n",
      "Always shiny shoes\n",
      "Help Old People with Tech\n",
      "Detachable ice skates\n",
      "Extra meal swipes\n",
      "Gauging Demand for Courses\n",
      "Lightbulb That Doesn't Shatter upon impact\n",
      "Free buffets\n",
      "LONG SPAGHETTI POT\n",
      "Adhesive Color Aid Tiles\n",
      "A Basketball that never deflates\n",
      "Tripod plates dont fit on all tripods and cameras\n",
      "A way to GTFO from a restaurant instead of waiting for a check\n",
      "A way to find recipes for items in your fridge if you don't want to go out and buy more food\n",
      "Better Way to Find Classes\n",
      "Sleeping in Dorms\n",
      "A Bath Mat that Doesn’t Get Soggy\n",
      "Too Many Emails NYU\n",
      "Drunk Texting\n",
      "Crowdsourced DJ App\n",
      "Actually Good Looking NYU Apparel\n",
      "Dishes\n",
      "Smoothie Packs\n",
      "ADHD Website\n",
      "A Good Bed for Bed Forum\n",
      "Quinoa Bowl Kit\n",
      "Unspillable Cup Holder\n",
      "Startup Team Building Site\n",
      "Mini Universal Camera\n",
      "Collaborative Video Editing App\n",
      "Probiotic Travel Website\n",
      "How to Clean Website\n",
      "Suitcase that actually helps you be organized\n",
      "Calendar App - Based off of Cal Newport Book\n",
      "Lens Cap with Microfiber Cleaner\n",
      "Frisbee with Removable Bottom Ring\n",
      "P2P Commerce - Device Resale\n",
      "\n"
     ]
    }
   ],
   "source": [
    "print(str)"
   ]
  },
  {
   "cell_type": "code",
   "execution_count": null,
   "metadata": {},
   "outputs": [],
   "source": []
  },
  {
   "cell_type": "code",
   "execution_count": null,
   "metadata": {},
   "outputs": [],
   "source": []
  }
 ],
 "metadata": {
  "kernelspec": {
   "display_name": "Python 3",
   "language": "python",
   "name": "python3"
  },
  "language_info": {
   "codemirror_mode": {
    "name": "ipython",
    "version": 3
   },
   "file_extension": ".py",
   "mimetype": "text/x-python",
   "name": "python",
   "nbconvert_exporter": "python",
   "pygments_lexer": "ipython3",
   "version": "3.6.5"
  }
 },
 "nbformat": 4,
 "nbformat_minor": 2
}
